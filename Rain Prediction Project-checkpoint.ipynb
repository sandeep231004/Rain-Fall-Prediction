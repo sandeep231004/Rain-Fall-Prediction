{
 "cells": [
  {
   "cell_type": "markdown",
   "id": "7cfa053bc3ce370",
   "metadata": {},
   "source": [
    "IMPORTING LIBRARIES"
   ]
  },
  {
   "cell_type": "code",
   "execution_count": 1,
   "id": "2ee469b114ffc829",
   "metadata": {
    "ExecuteTime": {
     "end_time": "2024-06-27T07:04:36.242867Z",
     "start_time": "2024-06-27T07:04:27.656299Z"
    }
   },
   "outputs": [],
   "source": [
    "import numpy as np\n",
    "import pandas as pd\n",
    "import matplotlib.pyplot as plt\n",
    "import seaborn as sns\n",
    "import datetime\n",
    "from sklearn.preprocessing import LabelEncoder\n",
    "from sklearn import preprocessing\n",
    "from sklearn.preprocessing import StandardScaler\n",
    "from sklearn.model_selection import train_test_split\n",
    "from keras.layers import Dense, BatchNormalization, Dropout, LSTM\n",
    "from keras.models import Sequential\n",
    "from keras.utils import to_categorical\n",
    "from keras.optimizers import Adam\n",
    "from tensorflow.keras import regularizers\n",
    "from sklearn.metrics import precision_score, recall_score, confusion_matrix, classification_report, accuracy_score, f1_score\n",
    "from keras import callbacks"
   ]
  },
  {
   "cell_type": "markdown",
   "id": "61c4a3ae80415e52",
   "metadata": {},
   "source": []
  },
  {
   "cell_type": "markdown",
   "id": "9c609d7e31e5cd2f",
   "metadata": {},
   "source": [
    "LOADING DATA SET"
   ]
  },
  {
   "cell_type": "code",
   "execution_count": 2,
   "id": "b976513a22520432",
   "metadata": {
    "ExecuteTime": {
     "end_time": "2024-06-27T07:04:36.769176Z",
     "start_time": "2024-06-27T07:04:36.245390Z"
    }
   },
   "outputs": [],
   "source": [
    "data = pd.read_csv(r\"C:\\Users\\saisa\\Downloads\\archive\\weatherAUS.csv\")"
   ]
  },
  {
   "cell_type": "code",
   "execution_count": 3,
   "id": "83069f240c4ca52b",
   "metadata": {
    "ExecuteTime": {
     "end_time": "2024-06-27T07:04:36.842148Z",
     "start_time": "2024-06-27T07:04:36.771194Z"
    }
   },
   "outputs": [
    {
     "data": {
      "text/html": [
       "<div>\n",
       "<style scoped>\n",
       "    .dataframe tbody tr th:only-of-type {\n",
       "        vertical-align: middle;\n",
       "    }\n",
       "\n",
       "    .dataframe tbody tr th {\n",
       "        vertical-align: top;\n",
       "    }\n",
       "\n",
       "    .dataframe thead th {\n",
       "        text-align: right;\n",
       "    }\n",
       "</style>\n",
       "<table border=\"1\" class=\"dataframe\">\n",
       "  <thead>\n",
       "    <tr style=\"text-align: right;\">\n",
       "      <th></th>\n",
       "      <th>Date</th>\n",
       "      <th>Location</th>\n",
       "      <th>MinTemp</th>\n",
       "      <th>MaxTemp</th>\n",
       "      <th>Rainfall</th>\n",
       "      <th>Evaporation</th>\n",
       "      <th>Sunshine</th>\n",
       "      <th>WindGustDir</th>\n",
       "      <th>WindGustSpeed</th>\n",
       "      <th>WindDir9am</th>\n",
       "      <th>...</th>\n",
       "      <th>Humidity9am</th>\n",
       "      <th>Humidity3pm</th>\n",
       "      <th>Pressure9am</th>\n",
       "      <th>Pressure3pm</th>\n",
       "      <th>Cloud9am</th>\n",
       "      <th>Cloud3pm</th>\n",
       "      <th>Temp9am</th>\n",
       "      <th>Temp3pm</th>\n",
       "      <th>RainToday</th>\n",
       "      <th>RainTomorrow</th>\n",
       "    </tr>\n",
       "  </thead>\n",
       "  <tbody>\n",
       "    <tr>\n",
       "      <th>0</th>\n",
       "      <td>2008-12-01</td>\n",
       "      <td>Albury</td>\n",
       "      <td>13.4</td>\n",
       "      <td>22.9</td>\n",
       "      <td>0.6</td>\n",
       "      <td>NaN</td>\n",
       "      <td>NaN</td>\n",
       "      <td>W</td>\n",
       "      <td>44.0</td>\n",
       "      <td>W</td>\n",
       "      <td>...</td>\n",
       "      <td>71.0</td>\n",
       "      <td>22.0</td>\n",
       "      <td>1007.7</td>\n",
       "      <td>1007.1</td>\n",
       "      <td>8.0</td>\n",
       "      <td>NaN</td>\n",
       "      <td>16.9</td>\n",
       "      <td>21.8</td>\n",
       "      <td>No</td>\n",
       "      <td>No</td>\n",
       "    </tr>\n",
       "    <tr>\n",
       "      <th>1</th>\n",
       "      <td>2008-12-02</td>\n",
       "      <td>Albury</td>\n",
       "      <td>7.4</td>\n",
       "      <td>25.1</td>\n",
       "      <td>0.0</td>\n",
       "      <td>NaN</td>\n",
       "      <td>NaN</td>\n",
       "      <td>WNW</td>\n",
       "      <td>44.0</td>\n",
       "      <td>NNW</td>\n",
       "      <td>...</td>\n",
       "      <td>44.0</td>\n",
       "      <td>25.0</td>\n",
       "      <td>1010.6</td>\n",
       "      <td>1007.8</td>\n",
       "      <td>NaN</td>\n",
       "      <td>NaN</td>\n",
       "      <td>17.2</td>\n",
       "      <td>24.3</td>\n",
       "      <td>No</td>\n",
       "      <td>No</td>\n",
       "    </tr>\n",
       "    <tr>\n",
       "      <th>2</th>\n",
       "      <td>2008-12-03</td>\n",
       "      <td>Albury</td>\n",
       "      <td>12.9</td>\n",
       "      <td>25.7</td>\n",
       "      <td>0.0</td>\n",
       "      <td>NaN</td>\n",
       "      <td>NaN</td>\n",
       "      <td>WSW</td>\n",
       "      <td>46.0</td>\n",
       "      <td>W</td>\n",
       "      <td>...</td>\n",
       "      <td>38.0</td>\n",
       "      <td>30.0</td>\n",
       "      <td>1007.6</td>\n",
       "      <td>1008.7</td>\n",
       "      <td>NaN</td>\n",
       "      <td>2.0</td>\n",
       "      <td>21.0</td>\n",
       "      <td>23.2</td>\n",
       "      <td>No</td>\n",
       "      <td>No</td>\n",
       "    </tr>\n",
       "    <tr>\n",
       "      <th>3</th>\n",
       "      <td>2008-12-04</td>\n",
       "      <td>Albury</td>\n",
       "      <td>9.2</td>\n",
       "      <td>28.0</td>\n",
       "      <td>0.0</td>\n",
       "      <td>NaN</td>\n",
       "      <td>NaN</td>\n",
       "      <td>NE</td>\n",
       "      <td>24.0</td>\n",
       "      <td>SE</td>\n",
       "      <td>...</td>\n",
       "      <td>45.0</td>\n",
       "      <td>16.0</td>\n",
       "      <td>1017.6</td>\n",
       "      <td>1012.8</td>\n",
       "      <td>NaN</td>\n",
       "      <td>NaN</td>\n",
       "      <td>18.1</td>\n",
       "      <td>26.5</td>\n",
       "      <td>No</td>\n",
       "      <td>No</td>\n",
       "    </tr>\n",
       "    <tr>\n",
       "      <th>4</th>\n",
       "      <td>2008-12-05</td>\n",
       "      <td>Albury</td>\n",
       "      <td>17.5</td>\n",
       "      <td>32.3</td>\n",
       "      <td>1.0</td>\n",
       "      <td>NaN</td>\n",
       "      <td>NaN</td>\n",
       "      <td>W</td>\n",
       "      <td>41.0</td>\n",
       "      <td>ENE</td>\n",
       "      <td>...</td>\n",
       "      <td>82.0</td>\n",
       "      <td>33.0</td>\n",
       "      <td>1010.8</td>\n",
       "      <td>1006.0</td>\n",
       "      <td>7.0</td>\n",
       "      <td>8.0</td>\n",
       "      <td>17.8</td>\n",
       "      <td>29.7</td>\n",
       "      <td>No</td>\n",
       "      <td>No</td>\n",
       "    </tr>\n",
       "  </tbody>\n",
       "</table>\n",
       "<p>5 rows × 23 columns</p>\n",
       "</div>"
      ],
      "text/plain": [
       "         Date Location  MinTemp  MaxTemp  Rainfall  Evaporation  Sunshine  \\\n",
       "0  2008-12-01   Albury     13.4     22.9       0.6          NaN       NaN   \n",
       "1  2008-12-02   Albury      7.4     25.1       0.0          NaN       NaN   \n",
       "2  2008-12-03   Albury     12.9     25.7       0.0          NaN       NaN   \n",
       "3  2008-12-04   Albury      9.2     28.0       0.0          NaN       NaN   \n",
       "4  2008-12-05   Albury     17.5     32.3       1.0          NaN       NaN   \n",
       "\n",
       "  WindGustDir  WindGustSpeed WindDir9am  ... Humidity9am  Humidity3pm  \\\n",
       "0           W           44.0          W  ...        71.0         22.0   \n",
       "1         WNW           44.0        NNW  ...        44.0         25.0   \n",
       "2         WSW           46.0          W  ...        38.0         30.0   \n",
       "3          NE           24.0         SE  ...        45.0         16.0   \n",
       "4           W           41.0        ENE  ...        82.0         33.0   \n",
       "\n",
       "   Pressure9am  Pressure3pm  Cloud9am  Cloud3pm  Temp9am  Temp3pm  RainToday  \\\n",
       "0       1007.7       1007.1       8.0       NaN     16.9     21.8         No   \n",
       "1       1010.6       1007.8       NaN       NaN     17.2     24.3         No   \n",
       "2       1007.6       1008.7       NaN       2.0     21.0     23.2         No   \n",
       "3       1017.6       1012.8       NaN       NaN     18.1     26.5         No   \n",
       "4       1010.8       1006.0       7.0       8.0     17.8     29.7         No   \n",
       "\n",
       "   RainTomorrow  \n",
       "0            No  \n",
       "1            No  \n",
       "2            No  \n",
       "3            No  \n",
       "4            No  \n",
       "\n",
       "[5 rows x 23 columns]"
      ]
     },
     "execution_count": 3,
     "metadata": {},
     "output_type": "execute_result"
    }
   ],
   "source": [
    "data.head()"
   ]
  },
  {
   "cell_type": "code",
   "execution_count": 4,
   "id": "3fe3e2df0453e106",
   "metadata": {
    "ExecuteTime": {
     "end_time": "2024-06-27T07:04:36.934357Z",
     "start_time": "2024-06-27T07:04:36.844162Z"
    }
   },
   "outputs": [
    {
     "name": "stdout",
     "output_type": "stream",
     "text": [
      "<class 'pandas.core.frame.DataFrame'>\n",
      "RangeIndex: 145460 entries, 0 to 145459\n",
      "Data columns (total 23 columns):\n",
      " #   Column         Non-Null Count   Dtype  \n",
      "---  ------         --------------   -----  \n",
      " 0   Date           145460 non-null  object \n",
      " 1   Location       145460 non-null  object \n",
      " 2   MinTemp        143975 non-null  float64\n",
      " 3   MaxTemp        144199 non-null  float64\n",
      " 4   Rainfall       142199 non-null  float64\n",
      " 5   Evaporation    82670 non-null   float64\n",
      " 6   Sunshine       75625 non-null   float64\n",
      " 7   WindGustDir    135134 non-null  object \n",
      " 8   WindGustSpeed  135197 non-null  float64\n",
      " 9   WindDir9am     134894 non-null  object \n",
      " 10  WindDir3pm     141232 non-null  object \n",
      " 11  WindSpeed9am   143693 non-null  float64\n",
      " 12  WindSpeed3pm   142398 non-null  float64\n",
      " 13  Humidity9am    142806 non-null  float64\n",
      " 14  Humidity3pm    140953 non-null  float64\n",
      " 15  Pressure9am    130395 non-null  float64\n",
      " 16  Pressure3pm    130432 non-null  float64\n",
      " 17  Cloud9am       89572 non-null   float64\n",
      " 18  Cloud3pm       86102 non-null   float64\n",
      " 19  Temp9am        143693 non-null  float64\n",
      " 20  Temp3pm        141851 non-null  float64\n",
      " 21  RainToday      142199 non-null  object \n",
      " 22  RainTomorrow   142193 non-null  object \n",
      "dtypes: float64(16), object(7)\n",
      "memory usage: 25.5+ MB\n"
     ]
    }
   ],
   "source": [
    "data.info()"
   ]
  },
  {
   "cell_type": "code",
   "execution_count": 5,
   "id": "63d60218b7ded045",
   "metadata": {
    "ExecuteTime": {
     "end_time": "2024-06-27T07:04:36.944615Z",
     "start_time": "2024-06-27T07:04:36.936370Z"
    }
   },
   "outputs": [],
   "source": [
    "#There are Missing values in the dataset\n",
    "# Dataset includes numeric and categorical values."
   ]
  },
  {
   "cell_type": "markdown",
   "id": "b77c4659b2a65c2f",
   "metadata": {},
   "source": [
    "DATA VISUALIZATION AND CLEANING\n"
   ]
  },
  {
   "cell_type": "code",
   "execution_count": 6,
   "id": "b52152de8a349aa7",
   "metadata": {
    "ExecuteTime": {
     "end_time": "2024-06-27T07:04:36.952592Z",
     "start_time": "2024-06-27T07:04:36.946839Z"
    }
   },
   "outputs": [],
   "source": [
    "#COUNT PLOT\n",
    "#count plot display the frequency of occurrences of categorical data. It provides a way to see how many times each category appears in a dataset.\n",
    "# It shows how many observations fall into each category."
   ]
  },
  {
   "cell_type": "code",
   "execution_count": 10,
   "id": "ddaacaaa30edb676",
   "metadata": {
    "ExecuteTime": {
     "end_time": "2024-06-27T07:04:37.744996Z",
     "start_time": "2024-06-27T07:04:36.959712Z"
    }
   },
   "outputs": [
    {
     "name": "stderr",
     "output_type": "stream",
     "text": [
      "C:\\Users\\saisa\\AppData\\Local\\Temp\\ipykernel_27808\\1754656845.py:2: FutureWarning: \n",
      "\n",
      "Passing `palette` without assigning `hue` is deprecated and will be removed in v0.14.0. Assign the `x` variable to `hue` and set `legend=False` for the same effect.\n",
      "\n",
      "  sns.countplot( x = data[\"RainTomorrow\"],palette= cols, legend = False)\n"
     ]
    },
    {
     "data": {
      "text/plain": [
       "<Axes: xlabel='RainTomorrow', ylabel='count'>"
      ]
     },
     "execution_count": 10,
     "metadata": {},
     "output_type": "execute_result"
    },
    {
     "data": {
      "image/png": "[encoded data removed]",
      "text/plain": [
       "<Figure size 640x480 with 1 Axes>"
      ]
     },
     "metadata": {},
     "output_type": "display_data"
    }
   ],
   "source": [
    "cols = [\"#C2C4E2\",\"#EED4E5\"]\n",
    "sns.countplot( x = data[\"RainTomorrow\"],palette= cols, legend = False)"
   ]
  },
  {
   "cell_type": "code",
   "execution_count": 12,
   "id": "e2aef9ee4e525129",
   "metadata": {
    "ExecuteTime": {
     "end_time": "2024-06-27T07:05:54.354753Z",
     "start_time": "2024-06-27T07:05:54.300236Z"
    }
   },
   "outputs": [
    {
     "data": {
      "text/plain": [
       "Date\n",
       "10    145460\n",
       "Name: count, dtype: int64"
      ]
     },
     "execution_count": 12,
     "metadata": {},
     "output_type": "execute_result"
    }
   ],
   "source": [
    "lengths = data[\"Date\"].str.len()\n",
    "lengths.value_counts()"
   ]
  },
  {
   "cell_type": "code",
   "execution_count": 13,
   "id": "46a6b58e49a4655f",
   "metadata": {
    "ExecuteTime": {
     "end_time": "2024-06-27T07:05:56.230681Z",
     "start_time": "2024-06-27T07:05:55.098660Z"
    }
   },
   "outputs": [
    {
     "data": {
      "image/png": "[encoded data removed]",
      "text/plain": [
       "<Figure size 640x480 with 1 Axes>"
      ]
     },
     "metadata": {},
     "output_type": "display_data"
    }
   ],
   "source": [
    "#The above result shows that there is no error in dates. So parsing date into datetime.\n",
    "#Converting date string into datetime object\n",
    "data['Date'] = pd.to_datetime(data['Date'])  \n",
    "data['Year'] = data.Date.dt.year\n",
    "year_count = data[\"Year\"].value_counts()\n",
    "ax = sns.countplot( x = data['Year'] , legend= False)\n",
    "for p in ax.patches:\n",
    "    ax.annotate(f'{int(p.get_height())}',\n",
    "                ( p.get_x() + p.get_width()/ 2.0,p.get_height()),\n",
    "                xytext = (0,10),\n",
    "                textcoords = \"offset points\")\n",
    "plt.show()\n"
   ]
  },
  {
   "cell_type": "code",
   "execution_count": 14,
   "id": "e8411dc088543812",
   "metadata": {
    "ExecuteTime": {
     "end_time": "2024-06-27T07:05:56.300620Z",
     "start_time": "2024-06-27T07:05:56.230681Z"
    }
   },
   "outputs": [
    {
     "name": "stdout",
     "output_type": "stream",
     "text": [
      "<class 'pandas.core.frame.DataFrame'>\n",
      "RangeIndex: 145460 entries, 0 to 145459\n",
      "Data columns (total 24 columns):\n",
      " #   Column         Non-Null Count   Dtype         \n",
      "---  ------         --------------   -----         \n",
      " 0   Date           145460 non-null  datetime64[ns]\n",
      " 1   Location       145460 non-null  object        \n",
      " 2   MinTemp        143975 non-null  float64       \n",
      " 3   MaxTemp        144199 non-null  float64       \n",
      " 4   Rainfall       142199 non-null  float64       \n",
      " 5   Evaporation    82670 non-null   float64       \n",
      " 6   Sunshine       75625 non-null   float64       \n",
      " 7   WindGustDir    135134 non-null  object        \n",
      " 8   WindGustSpeed  135197 non-null  float64       \n",
      " 9   WindDir9am     134894 non-null  object        \n",
      " 10  WindDir3pm     141232 non-null  object        \n",
      " 11  WindSpeed9am   143693 non-null  float64       \n",
      " 12  WindSpeed3pm   142398 non-null  float64       \n",
      " 13  Humidity9am    142806 non-null  float64       \n",
      " 14  Humidity3pm    140953 non-null  float64       \n",
      " 15  Pressure9am    130395 non-null  float64       \n",
      " 16  Pressure3pm    130432 non-null  float64       \n",
      " 17  Cloud9am       89572 non-null   float64       \n",
      " 18  Cloud3pm       86102 non-null   float64       \n",
      " 19  Temp9am        143693 non-null  float64       \n",
      " 20  Temp3pm        141851 non-null  float64       \n",
      " 21  RainToday      142199 non-null  object        \n",
      " 22  RainTomorrow   142193 non-null  object        \n",
      " 23  Year           145460 non-null  int32         \n",
      "dtypes: datetime64[ns](1), float64(16), int32(1), object(6)\n",
      "memory usage: 26.1+ MB\n"
     ]
    }
   ],
   "source": [
    "data.info()"
   ]
  },
  {
   "cell_type": "code",
   "execution_count": 15,
   "id": "6cd17bc4d4c925c9",
   "metadata": {
    "ExecuteTime": {
     "end_time": "2024-06-27T07:05:56.610044Z",
     "start_time": "2024-06-27T07:05:56.542782Z"
    }
   },
   "outputs": [
    {
     "data": {
      "text/html": [
       "<div>\n",
       "<style scoped>\n",
       "    .dataframe tbody tr th:only-of-type {\n",
       "        vertical-align: middle;\n",
       "    }\n",
       "\n",
       "    .dataframe tbody tr th {\n",
       "        vertical-align: top;\n",
       "    }\n",
       "\n",
       "    .dataframe thead th {\n",
       "        text-align: right;\n",
       "    }\n",
       "</style>\n",
       "<table border=\"1\" class=\"dataframe\">\n",
       "  <thead>\n",
       "    <tr style=\"text-align: right;\">\n",
       "      <th></th>\n",
       "      <th>Date</th>\n",
       "      <th>Location</th>\n",
       "      <th>MinTemp</th>\n",
       "      <th>MaxTemp</th>\n",
       "      <th>Rainfall</th>\n",
       "      <th>Evaporation</th>\n",
       "      <th>Sunshine</th>\n",
       "      <th>WindGustDir</th>\n",
       "      <th>WindGustSpeed</th>\n",
       "      <th>WindDir9am</th>\n",
       "      <th>...</th>\n",
       "      <th>Temp3pm</th>\n",
       "      <th>RainToday</th>\n",
       "      <th>RainTomorrow</th>\n",
       "      <th>Year</th>\n",
       "      <th>month</th>\n",
       "      <th>month_sin</th>\n",
       "      <th>month_cos</th>\n",
       "      <th>day</th>\n",
       "      <th>day_sin</th>\n",
       "      <th>day_cos</th>\n",
       "    </tr>\n",
       "  </thead>\n",
       "  <tbody>\n",
       "    <tr>\n",
       "      <th>0</th>\n",
       "      <td>2008-12-01</td>\n",
       "      <td>Albury</td>\n",
       "      <td>13.4</td>\n",
       "      <td>22.9</td>\n",
       "      <td>0.6</td>\n",
       "      <td>NaN</td>\n",
       "      <td>NaN</td>\n",
       "      <td>W</td>\n",
       "      <td>44.0</td>\n",
       "      <td>W</td>\n",
       "      <td>...</td>\n",
       "      <td>21.8</td>\n",
       "      <td>No</td>\n",
       "      <td>No</td>\n",
       "      <td>2008</td>\n",
       "      <td>12</td>\n",
       "      <td>-2.449294e-16</td>\n",
       "      <td>1.0</td>\n",
       "      <td>1</td>\n",
       "      <td>0.201299</td>\n",
       "      <td>0.979530</td>\n",
       "    </tr>\n",
       "    <tr>\n",
       "      <th>1</th>\n",
       "      <td>2008-12-02</td>\n",
       "      <td>Albury</td>\n",
       "      <td>7.4</td>\n",
       "      <td>25.1</td>\n",
       "      <td>0.0</td>\n",
       "      <td>NaN</td>\n",
       "      <td>NaN</td>\n",
       "      <td>WNW</td>\n",
       "      <td>44.0</td>\n",
       "      <td>NNW</td>\n",
       "      <td>...</td>\n",
       "      <td>24.3</td>\n",
       "      <td>No</td>\n",
       "      <td>No</td>\n",
       "      <td>2008</td>\n",
       "      <td>12</td>\n",
       "      <td>-2.449294e-16</td>\n",
       "      <td>1.0</td>\n",
       "      <td>2</td>\n",
       "      <td>0.394356</td>\n",
       "      <td>0.918958</td>\n",
       "    </tr>\n",
       "    <tr>\n",
       "      <th>2</th>\n",
       "      <td>2008-12-03</td>\n",
       "      <td>Albury</td>\n",
       "      <td>12.9</td>\n",
       "      <td>25.7</td>\n",
       "      <td>0.0</td>\n",
       "      <td>NaN</td>\n",
       "      <td>NaN</td>\n",
       "      <td>WSW</td>\n",
       "      <td>46.0</td>\n",
       "      <td>W</td>\n",
       "      <td>...</td>\n",
       "      <td>23.2</td>\n",
       "      <td>No</td>\n",
       "      <td>No</td>\n",
       "      <td>2008</td>\n",
       "      <td>12</td>\n",
       "      <td>-2.449294e-16</td>\n",
       "      <td>1.0</td>\n",
       "      <td>3</td>\n",
       "      <td>0.571268</td>\n",
       "      <td>0.820763</td>\n",
       "    </tr>\n",
       "    <tr>\n",
       "      <th>3</th>\n",
       "      <td>2008-12-04</td>\n",
       "      <td>Albury</td>\n",
       "      <td>9.2</td>\n",
       "      <td>28.0</td>\n",
       "      <td>0.0</td>\n",
       "      <td>NaN</td>\n",
       "      <td>NaN</td>\n",
       "      <td>NE</td>\n",
       "      <td>24.0</td>\n",
       "      <td>SE</td>\n",
       "      <td>...</td>\n",
       "      <td>26.5</td>\n",
       "      <td>No</td>\n",
       "      <td>No</td>\n",
       "      <td>2008</td>\n",
       "      <td>12</td>\n",
       "      <td>-2.449294e-16</td>\n",
       "      <td>1.0</td>\n",
       "      <td>4</td>\n",
       "      <td>0.724793</td>\n",
       "      <td>0.688967</td>\n",
       "    </tr>\n",
       "    <tr>\n",
       "      <th>4</th>\n",
       "      <td>2008-12-05</td>\n",
       "      <td>Albury</td>\n",
       "      <td>17.5</td>\n",
       "      <td>32.3</td>\n",
       "      <td>1.0</td>\n",
       "      <td>NaN</td>\n",
       "      <td>NaN</td>\n",
       "      <td>W</td>\n",
       "      <td>41.0</td>\n",
       "      <td>ENE</td>\n",
       "      <td>...</td>\n",
       "      <td>29.7</td>\n",
       "      <td>No</td>\n",
       "      <td>No</td>\n",
       "      <td>2008</td>\n",
       "      <td>12</td>\n",
       "      <td>-2.449294e-16</td>\n",
       "      <td>1.0</td>\n",
       "      <td>5</td>\n",
       "      <td>0.848644</td>\n",
       "      <td>0.528964</td>\n",
       "    </tr>\n",
       "  </tbody>\n",
       "</table>\n",
       "<p>5 rows × 30 columns</p>\n",
       "</div>"
      ],
      "text/plain": [
       "        Date Location  MinTemp  MaxTemp  Rainfall  Evaporation  Sunshine  \\\n",
       "0 2008-12-01   Albury     13.4     22.9       0.6          NaN       NaN   \n",
       "1 2008-12-02   Albury      7.4     25.1       0.0          NaN       NaN   \n",
       "2 2008-12-03   Albury     12.9     25.7       0.0          NaN       NaN   \n",
       "3 2008-12-04   Albury      9.2     28.0       0.0          NaN       NaN   \n",
       "4 2008-12-05   Albury     17.5     32.3       1.0          NaN       NaN   \n",
       "\n",
       "  WindGustDir  WindGustSpeed WindDir9am  ... Temp3pm  RainToday  RainTomorrow  \\\n",
       "0           W           44.0          W  ...    21.8         No            No   \n",
       "1         WNW           44.0        NNW  ...    24.3         No            No   \n",
       "2         WSW           46.0          W  ...    23.2         No            No   \n",
       "3          NE           24.0         SE  ...    26.5         No            No   \n",
       "4           W           41.0        ENE  ...    29.7         No            No   \n",
       "\n",
       "   Year  month     month_sin  month_cos  day   day_sin   day_cos  \n",
       "0  2008     12 -2.449294e-16        1.0    1  0.201299  0.979530  \n",
       "1  2008     12 -2.449294e-16        1.0    2  0.394356  0.918958  \n",
       "2  2008     12 -2.449294e-16        1.0    3  0.571268  0.820763  \n",
       "3  2008     12 -2.449294e-16        1.0    4  0.724793  0.688967  \n",
       "4  2008     12 -2.449294e-16        1.0    5  0.848644  0.528964  \n",
       "\n",
       "[5 rows x 30 columns]"
      ]
     },
     "execution_count": 15,
     "metadata": {},
     "output_type": "execute_result"
    }
   ],
   "source": [
    "# Encoding datetime into cyclic parameters is essential in capturing cyclic events. such as hours in a day, days in a week ,months in a year. Here we are converting the linear representation of hours etc... into cyclic parameters by using a function.\n",
    "\n",
    "def encode(data, col, max_val):\n",
    "    data[col + \"_sin\"] = np.sin(2 * np.pi * data[col] / max_val)\n",
    "    data[col + \"_cos\"] = np.cos(2 * np.pi * data[col] /max_val)\n",
    "    return data\n",
    "\n",
    "data['month'] = data.Date.dt.month\n",
    "data = encode(data, \"month\" , 12)\n",
    "\n",
    "data['day'] = data.Date.dt.day\n",
    "data = encode(data, \"day\" , 31)\n",
    "\n",
    "data.head()"
   ]
  },
  {
   "cell_type": "code",
   "execution_count": 16,
   "id": "2081443866ad5597",
   "metadata": {
    "ExecuteTime": {
     "end_time": "2024-06-27T07:05:57.381767Z",
     "start_time": "2024-06-27T07:05:57.377042Z"
    }
   },
   "outputs": [],
   "source": [
    "# Splitting months and days into sine and cosine combinations provides the cyclical continuous feature. By using sine and cosine transformations and converting hours into radians we are able to plot the points in a cyclic feature on a circle of unit radius."
   ]
  },
  {
   "cell_type": "code",
   "execution_count": 17,
   "id": "8dde3d450ca035d9",
   "metadata": {
    "ExecuteTime": {
     "end_time": "2024-06-27T07:05:58.842495Z",
     "start_time": "2024-06-27T07:05:57.765583Z"
    }
   },
   "outputs": [
    {
     "data": {
      "text/plain": [
       "Text(0.5, 0, 'Sine Encoded of Month')"
      ]
     },
     "execution_count": 17,
     "metadata": {},
     "output_type": "execute_result"
    },
    {
     "data": {
      "image/png": "[encoded data removed]",
      "text/plain": [
       "<Figure size 640x480 with 1 Axes>"
      ]
     },
     "metadata": {},
     "output_type": "display_data"
    }
   ],
   "source": [
    "cyclic_month = sns.scatterplot(x ='month_sin' , y = 'month_cos' , data= data, color = \"Red\")\n",
    "cyclic_month.set_title(\"Cyclic Encoding of Month\")\n",
    "cyclic_month.set_ylabel(\"Cosine Encoded of Month\")\n",
    "cyclic_month.set_xlabel(\"Sine Encoded of Month\")"
   ]
  },
  {
   "cell_type": "code",
   "execution_count": 18,
   "id": "1ed9e7682d6110ed",
   "metadata": {
    "ExecuteTime": {
     "end_time": "2024-06-27T07:06:01.022410Z",
     "start_time": "2024-06-27T07:05:59.505608Z"
    }
   },
   "outputs": [
    {
     "data": {
      "text/plain": [
       "Text(0.5, 0, 'Sine Encoded of day')"
      ]
     },
     "execution_count": 18,
     "metadata": {},
     "output_type": "execute_result"
    },
    {
     "data": {
      "image/png": "[encoded data removed]",
      "text/plain": [
       "<Figure size 640x480 with 1 Axes>"
      ]
     },
     "metadata": {},
     "output_type": "display_data"
    }
   ],
   "source": [
    "cyclic_day = sns.scatterplot(x ='day_sin' , y = 'day_cos' , data= data, color = \"Red\")\n",
    "cyclic_day.set_title(\"Cyclic Encoding of Day\")\n",
    "cyclic_day.set_ylabel(\"Cosine Encoded of Day\")\n",
    "cyclic_day.set_xlabel(\"Sine Encoded of day\")"
   ]
  },
  {
   "cell_type": "markdown",
   "id": "b4e73f40267d05f5",
   "metadata": {},
   "source": [
    "Dealing with missing values in Categorical and Numeric values  "
   ]
  },
  {
   "cell_type": "markdown",
   "id": "2e33a6ef4110ae71",
   "metadata": {},
   "source": [
    "* Filling missing values with mode of the column value\n"
   ]
  },
  {
   "cell_type": "code",
   "execution_count": 19,
   "id": "158e6643c53e3d06",
   "metadata": {
    "ExecuteTime": {
     "end_time": "2024-06-27T07:06:02.947457Z",
     "start_time": "2024-06-27T07:06:02.939628Z"
    }
   },
   "outputs": [
    {
     "name": "stdout",
     "output_type": "stream",
     "text": [
      "Categorical Values :['Location', 'WindGustDir', 'WindDir9am', 'WindDir3pm', 'RainToday', 'RainTomorrow']\n"
     ]
    }
   ],
   "source": [
    "#Get list of categorical variables\n",
    "s = (data.dtypes == 'object')\n",
    "object_cols = list(s[s].index)\n",
    "print(f'Categorical Values :{object_cols}')\n"
   ]
  },
  {
   "cell_type": "code",
   "execution_count": 20,
   "id": "97bea12066a246ef",
   "metadata": {
    "ExecuteTime": {
     "end_time": "2024-06-27T07:06:04.190666Z",
     "start_time": "2024-06-27T07:06:04.143697Z"
    }
   },
   "outputs": [
    {
     "name": "stdout",
     "output_type": "stream",
     "text": [
      "Location 0\n",
      "WindGustDir 10326\n",
      "WindDir9am 10566\n",
      "WindDir3pm 4228\n",
      "RainToday 3261\n",
      "RainTomorrow 3267\n"
     ]
    }
   ],
   "source": [
    "# Finding missing values in categorical variables\n",
    "for i in object_cols:\n",
    "    print(i, data[i].isnull().sum())"
   ]
  },
  {
   "cell_type": "code",
   "execution_count": 21,
   "id": "84eb05d69abc16db",
   "metadata": {
    "ExecuteTime": {
     "end_time": "2024-06-27T07:06:05.546366Z",
     "start_time": "2024-06-27T07:06:05.459688Z"
    }
   },
   "outputs": [
    {
     "name": "stderr",
     "output_type": "stream",
     "text": [
      "C:\\Users\\saisa\\AppData\\Local\\Temp\\ipykernel_27808\\1304831284.py:4: FutureWarning: A value is trying to be set on a copy of a DataFrame or Series through chained assignment using an inplace method.\n",
      "The behavior will change in pandas 3.0. This inplace method will never work because the intermediate object on which we are setting values always behaves as a copy.\n",
      "\n",
      "For example, when doing 'df[col].method(value, inplace=True)', try using 'df.method({col: value}, inplace=True)' or df[col] = df[col].method(value) instead, to perform the operation inplace on the original object.\n",
      "\n",
      "\n",
      "  data[i].fillna(data[i].mode()[0], inplace = True)\n"
     ]
    }
   ],
   "source": [
    "#Filling missing values with mode of the column in value\n",
    "\n",
    "for i in object_cols:\n",
    "    data[i].fillna(data[i].mode()[0], inplace = True)"
   ]
  },
  {
   "cell_type": "markdown",
   "id": "8f54e2aa8e4c9b71",
   "metadata": {},
   "source": [
    "Numerical Variables\n",
    "* Filling missing values with median of the column value"
   ]
  },
  {
   "cell_type": "code",
   "execution_count": 22,
   "id": "c0081a09cea40743",
   "metadata": {
    "ExecuteTime": {
     "end_time": "2024-06-27T07:06:06.690536Z",
     "start_time": "2024-06-27T07:06:06.683589Z"
    }
   },
   "outputs": [
    {
     "name": "stdout",
     "output_type": "stream",
     "text": [
      "Numeric variables :['MinTemp', 'MaxTemp', 'Rainfall', 'Evaporation', 'Sunshine', 'WindGustSpeed', 'WindSpeed9am', 'WindSpeed3pm', 'Humidity9am', 'Humidity3pm', 'Pressure9am', 'Pressure3pm', 'Cloud9am', 'Cloud3pm', 'Temp9am', 'Temp3pm', 'month_sin', 'month_cos', 'day_sin', 'day_cos']\n"
     ]
    }
   ],
   "source": [
    "t = (data.dtypes == 'float64')\n",
    "num_cols = list(t[t].index)\n",
    "print(f'Numeric variables :{num_cols}')\n"
   ]
  },
  {
   "cell_type": "code",
   "execution_count": 23,
   "id": "64044d320c678d7f",
   "metadata": {
    "ExecuteTime": {
     "end_time": "2024-06-27T07:06:07.339906Z",
     "start_time": "2024-06-27T07:06:07.319710Z"
    }
   },
   "outputs": [
    {
     "name": "stdout",
     "output_type": "stream",
     "text": [
      "MinTemp 1485\n",
      "MaxTemp 1261\n",
      "Rainfall 3261\n",
      "Evaporation 62790\n",
      "Sunshine 69835\n",
      "WindGustSpeed 10263\n",
      "WindSpeed9am 1767\n",
      "WindSpeed3pm 3062\n",
      "Humidity9am 2654\n",
      "Humidity3pm 4507\n",
      "Pressure9am 15065\n",
      "Pressure3pm 15028\n",
      "Cloud9am 55888\n",
      "Cloud3pm 59358\n",
      "Temp9am 1767\n",
      "Temp3pm 3609\n",
      "month_sin 0\n",
      "month_cos 0\n",
      "day_sin 0\n",
      "day_cos 0\n"
     ]
    }
   ],
   "source": [
    "for i in num_cols:\n",
    "    print(i, data[i].isnull().sum())"
   ]
  },
  {
   "cell_type": "code",
   "execution_count": 24,
   "id": "9f73c8171cc508ed",
   "metadata": {
    "ExecuteTime": {
     "end_time": "2024-06-27T07:06:07.774750Z",
     "start_time": "2024-06-27T07:06:07.667914Z"
    }
   },
   "outputs": [
    {
     "name": "stdout",
     "output_type": "stream",
     "text": [
      "<class 'pandas.core.frame.DataFrame'>\n",
      "RangeIndex: 145460 entries, 0 to 145459\n",
      "Data columns (total 30 columns):\n",
      " #   Column         Non-Null Count   Dtype         \n",
      "---  ------         --------------   -----         \n",
      " 0   Date           145460 non-null  datetime64[ns]\n",
      " 1   Location       145460 non-null  object        \n",
      " 2   MinTemp        145460 non-null  float64       \n",
      " 3   MaxTemp        145460 non-null  float64       \n",
      " 4   Rainfall       145460 non-null  float64       \n",
      " 5   Evaporation    145460 non-null  float64       \n",
      " 6   Sunshine       145460 non-null  float64       \n",
      " 7   WindGustDir    145460 non-null  object        \n",
      " 8   WindGustSpeed  145460 non-null  float64       \n",
      " 9   WindDir9am     145460 non-null  object        \n",
      " 10  WindDir3pm     145460 non-null  object        \n",
      " 11  WindSpeed9am   145460 non-null  float64       \n",
      " 12  WindSpeed3pm   145460 non-null  float64       \n",
      " 13  Humidity9am    145460 non-null  float64       \n",
      " 14  Humidity3pm    145460 non-null  float64       \n",
      " 15  Pressure9am    145460 non-null  float64       \n",
      " 16  Pressure3pm    145460 non-null  float64       \n",
      " 17  Cloud9am       145460 non-null  float64       \n",
      " 18  Cloud3pm       145460 non-null  float64       \n",
      " 19  Temp9am        145460 non-null  float64       \n",
      " 20  Temp3pm        145460 non-null  float64       \n",
      " 21  RainToday      145460 non-null  object        \n",
      " 22  RainTomorrow   145460 non-null  object        \n",
      " 23  Year           145460 non-null  int32         \n",
      " 24  month          145460 non-null  int32         \n",
      " 25  month_sin      145460 non-null  float64       \n",
      " 26  month_cos      145460 non-null  float64       \n",
      " 27  day            145460 non-null  int32         \n",
      " 28  day_sin        145460 non-null  float64       \n",
      " 29  day_cos        145460 non-null  float64       \n",
      "dtypes: datetime64[ns](1), float64(20), int32(3), object(6)\n",
      "memory usage: 31.6+ MB\n"
     ]
    },
    {
     "name": "stderr",
     "output_type": "stream",
     "text": [
      "C:\\Users\\saisa\\AppData\\Local\\Temp\\ipykernel_27808\\2258077889.py:3: FutureWarning: A value is trying to be set on a copy of a DataFrame or Series through chained assignment using an inplace method.\n",
      "The behavior will change in pandas 3.0. This inplace method will never work because the intermediate object on which we are setting values always behaves as a copy.\n",
      "\n",
      "For example, when doing 'df[col].method(value, inplace=True)', try using 'df.method({col: value}, inplace=True)' or df[col] = df[col].method(value) instead, to perform the operation inplace on the original object.\n",
      "\n",
      "\n",
      "  data[i].fillna(data[i].median() , inplace = True)\n",
      "C:\\Users\\saisa\\AppData\\Local\\Temp\\ipykernel_27808\\2258077889.py:3: FutureWarning: A value is trying to be set on a copy of a DataFrame or Series through chained assignment using an inplace method.\n",
      "The behavior will change in pandas 3.0. This inplace method will never work because the intermediate object on which we are setting values always behaves as a copy.\n",
      "\n",
      "For example, when doing 'df[col].method(value, inplace=True)', try using 'df.method({col: value}, inplace=True)' or df[col] = df[col].method(value) instead, to perform the operation inplace on the original object.\n",
      "\n",
      "\n",
      "  data[i].fillna(data[i].median() , inplace = True)\n",
      "C:\\Users\\saisa\\AppData\\Local\\Temp\\ipykernel_27808\\2258077889.py:3: FutureWarning: A value is trying to be set on a copy of a DataFrame or Series through chained assignment using an inplace method.\n",
      "The behavior will change in pandas 3.0. This inplace method will never work because the intermediate object on which we are setting values always behaves as a copy.\n",
      "\n",
      "For example, when doing 'df[col].method(value, inplace=True)', try using 'df.method({col: value}, inplace=True)' or df[col] = df[col].method(value) instead, to perform the operation inplace on the original object.\n",
      "\n",
      "\n",
      "  data[i].fillna(data[i].median() , inplace = True)\n",
      "C:\\Users\\saisa\\AppData\\Local\\Temp\\ipykernel_27808\\2258077889.py:3: FutureWarning: A value is trying to be set on a copy of a DataFrame or Series through chained assignment using an inplace method.\n",
      "The behavior will change in pandas 3.0. This inplace method will never work because the intermediate object on which we are setting values always behaves as a copy.\n",
      "\n",
      "For example, when doing 'df[col].method(value, inplace=True)', try using 'df.method({col: value}, inplace=True)' or df[col] = df[col].method(value) instead, to perform the operation inplace on the original object.\n",
      "\n",
      "\n",
      "  data[i].fillna(data[i].median() , inplace = True)\n",
      "C:\\Users\\saisa\\AppData\\Local\\Temp\\ipykernel_27808\\2258077889.py:3: FutureWarning: A value is trying to be set on a copy of a DataFrame or Series through chained assignment using an inplace method.\n",
      "The behavior will change in pandas 3.0. This inplace method will never work because the intermediate object on which we are setting values always behaves as a copy.\n",
      "\n",
      "For example, when doing 'df[col].method(value, inplace=True)', try using 'df.method({col: value}, inplace=True)' or df[col] = df[col].method(value) instead, to perform the operation inplace on the original object.\n",
      "\n",
      "\n",
      "  data[i].fillna(data[i].median() , inplace = True)\n",
      "C:\\Users\\saisa\\AppData\\Local\\Temp\\ipykernel_27808\\2258077889.py:3: FutureWarning: A value is trying to be set on a copy of a DataFrame or Series through chained assignment using an inplace method.\n",
      "The behavior will change in pandas 3.0. This inplace method will never work because the intermediate object on which we are setting values always behaves as a copy.\n",
      "\n",
      "For example, when doing 'df[col].method(value, inplace=True)', try using 'df.method({col: value}, inplace=True)' or df[col] = df[col].method(value) instead, to perform the operation inplace on the original object.\n",
      "\n",
      "\n",
      "  data[i].fillna(data[i].median() , inplace = True)\n",
      "C:\\Users\\saisa\\AppData\\Local\\Temp\\ipykernel_27808\\2258077889.py:3: FutureWarning: A value is trying to be set on a copy of a DataFrame or Series through chained assignment using an inplace method.\n",
      "The behavior will change in pandas 3.0. This inplace method will never work because the intermediate object on which we are setting values always behaves as a copy.\n",
      "\n",
      "For example, when doing 'df[col].method(value, inplace=True)', try using 'df.method({col: value}, inplace=True)' or df[col] = df[col].method(value) instead, to perform the operation inplace on the original object.\n",
      "\n",
      "\n",
      "  data[i].fillna(data[i].median() , inplace = True)\n",
      "C:\\Users\\saisa\\AppData\\Local\\Temp\\ipykernel_27808\\2258077889.py:3: FutureWarning: A value is trying to be set on a copy of a DataFrame or Series through chained assignment using an inplace method.\n",
      "The behavior will change in pandas 3.0. This inplace method will never work because the intermediate object on which we are setting values always behaves as a copy.\n",
      "\n",
      "For example, when doing 'df[col].method(value, inplace=True)', try using 'df.method({col: value}, inplace=True)' or df[col] = df[col].method(value) instead, to perform the operation inplace on the original object.\n",
      "\n",
      "\n",
      "  data[i].fillna(data[i].median() , inplace = True)\n",
      "C:\\Users\\saisa\\AppData\\Local\\Temp\\ipykernel_27808\\2258077889.py:3: FutureWarning: A value is trying to be set on a copy of a DataFrame or Series through chained assignment using an inplace method.\n",
      "The behavior will change in pandas 3.0. This inplace method will never work because the intermediate object on which we are setting values always behaves as a copy.\n",
      "\n",
      "For example, when doing 'df[col].method(value, inplace=True)', try using 'df.method({col: value}, inplace=True)' or df[col] = df[col].method(value) instead, to perform the operation inplace on the original object.\n",
      "\n",
      "\n",
      "  data[i].fillna(data[i].median() , inplace = True)\n",
      "C:\\Users\\saisa\\AppData\\Local\\Temp\\ipykernel_27808\\2258077889.py:3: FutureWarning: A value is trying to be set on a copy of a DataFrame or Series through chained assignment using an inplace method.\n",
      "The behavior will change in pandas 3.0. This inplace method will never work because the intermediate object on which we are setting values always behaves as a copy.\n",
      "\n",
      "For example, when doing 'df[col].method(value, inplace=True)', try using 'df.method({col: value}, inplace=True)' or df[col] = df[col].method(value) instead, to perform the operation inplace on the original object.\n",
      "\n",
      "\n",
      "  data[i].fillna(data[i].median() , inplace = True)\n",
      "C:\\Users\\saisa\\AppData\\Local\\Temp\\ipykernel_27808\\2258077889.py:3: FutureWarning: A value is trying to be set on a copy of a DataFrame or Series through chained assignment using an inplace method.\n",
      "The behavior will change in pandas 3.0. This inplace method will never work because the intermediate object on which we are setting values always behaves as a copy.\n",
      "\n",
      "For example, when doing 'df[col].method(value, inplace=True)', try using 'df.method({col: value}, inplace=True)' or df[col] = df[col].method(value) instead, to perform the operation inplace on the original object.\n",
      "\n",
      "\n",
      "  data[i].fillna(data[i].median() , inplace = True)\n",
      "C:\\Users\\saisa\\AppData\\Local\\Temp\\ipykernel_27808\\2258077889.py:3: FutureWarning: A value is trying to be set on a copy of a DataFrame or Series through chained assignment using an inplace method.\n",
      "The behavior will change in pandas 3.0. This inplace method will never work because the intermediate object on which we are setting values always behaves as a copy.\n",
      "\n",
      "For example, when doing 'df[col].method(value, inplace=True)', try using 'df.method({col: value}, inplace=True)' or df[col] = df[col].method(value) instead, to perform the operation inplace on the original object.\n",
      "\n",
      "\n",
      "  data[i].fillna(data[i].median() , inplace = True)\n",
      "C:\\Users\\saisa\\AppData\\Local\\Temp\\ipykernel_27808\\2258077889.py:3: FutureWarning: A value is trying to be set on a copy of a DataFrame or Series through chained assignment using an inplace method.\n",
      "The behavior will change in pandas 3.0. This inplace method will never work because the intermediate object on which we are setting values always behaves as a copy.\n",
      "\n",
      "For example, when doing 'df[col].method(value, inplace=True)', try using 'df.method({col: value}, inplace=True)' or df[col] = df[col].method(value) instead, to perform the operation inplace on the original object.\n",
      "\n",
      "\n",
      "  data[i].fillna(data[i].median() , inplace = True)\n",
      "C:\\Users\\saisa\\AppData\\Local\\Temp\\ipykernel_27808\\2258077889.py:3: FutureWarning: A value is trying to be set on a copy of a DataFrame or Series through chained assignment using an inplace method.\n",
      "The behavior will change in pandas 3.0. This inplace method will never work because the intermediate object on which we are setting values always behaves as a copy.\n",
      "\n",
      "For example, when doing 'df[col].method(value, inplace=True)', try using 'df.method({col: value}, inplace=True)' or df[col] = df[col].method(value) instead, to perform the operation inplace on the original object.\n",
      "\n",
      "\n",
      "  data[i].fillna(data[i].median() , inplace = True)\n",
      "C:\\Users\\saisa\\AppData\\Local\\Temp\\ipykernel_27808\\2258077889.py:3: FutureWarning: A value is trying to be set on a copy of a DataFrame or Series through chained assignment using an inplace method.\n",
      "The behavior will change in pandas 3.0. This inplace method will never work because the intermediate object on which we are setting values always behaves as a copy.\n",
      "\n",
      "For example, when doing 'df[col].method(value, inplace=True)', try using 'df.method({col: value}, inplace=True)' or df[col] = df[col].method(value) instead, to perform the operation inplace on the original object.\n",
      "\n",
      "\n",
      "  data[i].fillna(data[i].median() , inplace = True)\n",
      "C:\\Users\\saisa\\AppData\\Local\\Temp\\ipykernel_27808\\2258077889.py:3: FutureWarning: A value is trying to be set on a copy of a DataFrame or Series through chained assignment using an inplace method.\n",
      "The behavior will change in pandas 3.0. This inplace method will never work because the intermediate object on which we are setting values always behaves as a copy.\n",
      "\n",
      "For example, when doing 'df[col].method(value, inplace=True)', try using 'df.method({col: value}, inplace=True)' or df[col] = df[col].method(value) instead, to perform the operation inplace on the original object.\n",
      "\n",
      "\n",
      "  data[i].fillna(data[i].median() , inplace = True)\n",
      "C:\\Users\\saisa\\AppData\\Local\\Temp\\ipykernel_27808\\2258077889.py:3: FutureWarning: A value is trying to be set on a copy of a DataFrame or Series through chained assignment using an inplace method.\n",
      "The behavior will change in pandas 3.0. This inplace method will never work because the intermediate object on which we are setting values always behaves as a copy.\n",
      "\n",
      "For example, when doing 'df[col].method(value, inplace=True)', try using 'df.method({col: value}, inplace=True)' or df[col] = df[col].method(value) instead, to perform the operation inplace on the original object.\n",
      "\n",
      "\n",
      "  data[i].fillna(data[i].median() , inplace = True)\n",
      "C:\\Users\\saisa\\AppData\\Local\\Temp\\ipykernel_27808\\2258077889.py:3: FutureWarning: A value is trying to be set on a copy of a DataFrame or Series through chained assignment using an inplace method.\n",
      "The behavior will change in pandas 3.0. This inplace method will never work because the intermediate object on which we are setting values always behaves as a copy.\n",
      "\n",
      "For example, when doing 'df[col].method(value, inplace=True)', try using 'df.method({col: value}, inplace=True)' or df[col] = df[col].method(value) instead, to perform the operation inplace on the original object.\n",
      "\n",
      "\n",
      "  data[i].fillna(data[i].median() , inplace = True)\n",
      "C:\\Users\\saisa\\AppData\\Local\\Temp\\ipykernel_27808\\2258077889.py:3: FutureWarning: A value is trying to be set on a copy of a DataFrame or Series through chained assignment using an inplace method.\n",
      "The behavior will change in pandas 3.0. This inplace method will never work because the intermediate object on which we are setting values always behaves as a copy.\n",
      "\n",
      "For example, when doing 'df[col].method(value, inplace=True)', try using 'df.method({col: value}, inplace=True)' or df[col] = df[col].method(value) instead, to perform the operation inplace on the original object.\n",
      "\n",
      "\n",
      "  data[i].fillna(data[i].median() , inplace = True)\n",
      "C:\\Users\\saisa\\AppData\\Local\\Temp\\ipykernel_27808\\2258077889.py:3: FutureWarning: A value is trying to be set on a copy of a DataFrame or Series through chained assignment using an inplace method.\n",
      "The behavior will change in pandas 3.0. This inplace method will never work because the intermediate object on which we are setting values always behaves as a copy.\n",
      "\n",
      "For example, when doing 'df[col].method(value, inplace=True)', try using 'df.method({col: value}, inplace=True)' or df[col] = df[col].method(value) instead, to perform the operation inplace on the original object.\n",
      "\n",
      "\n",
      "  data[i].fillna(data[i].median() , inplace = True)\n"
     ]
    }
   ],
   "source": [
    "#Filling missing values with median of the column in values\n",
    "for i in num_cols:\n",
    "    data[i].fillna(data[i].median() , inplace = True)\n",
    "\n",
    "data.info()"
   ]
  },
  {
   "cell_type": "markdown",
   "id": "c578a434c7784321",
   "metadata": {},
   "source": [
    "Data Preprocessing\n",
    "\n",
    "* Label encoding columns with categorical data\n",
    "* Perform the scaling of features\n",
    "* Detecting outliers\n",
    "* Dropping of outliers based on data analysis "
   ]
  },
  {
   "cell_type": "markdown",
   "id": "b859084e3042457a",
   "metadata": {},
   "source": [
    "Label Encoding of categorical values"
   ]
  },
  {
   "cell_type": "code",
   "execution_count": 25,
   "id": "9e7814c1875226b3",
   "metadata": {
    "ExecuteTime": {
     "end_time": "2024-06-27T07:06:09.299143Z",
     "start_time": "2024-06-27T07:06:09.079190Z"
    }
   },
   "outputs": [
    {
     "name": "stdout",
     "output_type": "stream",
     "text": [
      "<class 'pandas.core.frame.DataFrame'>\n",
      "RangeIndex: 145460 entries, 0 to 145459\n",
      "Data columns (total 30 columns):\n",
      " #   Column         Non-Null Count   Dtype         \n",
      "---  ------         --------------   -----         \n",
      " 0   Date           145460 non-null  datetime64[ns]\n",
      " 1   Location       145460 non-null  int32         \n",
      " 2   MinTemp        145460 non-null  float64       \n",
      " 3   MaxTemp        145460 non-null  float64       \n",
      " 4   Rainfall       145460 non-null  float64       \n",
      " 5   Evaporation    145460 non-null  float64       \n",
      " 6   Sunshine       145460 non-null  float64       \n",
      " 7   WindGustDir    145460 non-null  int32         \n",
      " 8   WindGustSpeed  145460 non-null  float64       \n",
      " 9   WindDir9am     145460 non-null  int32         \n",
      " 10  WindDir3pm     145460 non-null  int32         \n",
      " 11  WindSpeed9am   145460 non-null  float64       \n",
      " 12  WindSpeed3pm   145460 non-null  float64       \n",
      " 13  Humidity9am    145460 non-null  float64       \n",
      " 14  Humidity3pm    145460 non-null  float64       \n",
      " 15  Pressure9am    145460 non-null  float64       \n",
      " 16  Pressure3pm    145460 non-null  float64       \n",
      " 17  Cloud9am       145460 non-null  float64       \n",
      " 18  Cloud3pm       145460 non-null  float64       \n",
      " 19  Temp9am        145460 non-null  float64       \n",
      " 20  Temp3pm        145460 non-null  float64       \n",
      " 21  RainToday      145460 non-null  int32         \n",
      " 22  RainTomorrow   145460 non-null  int32         \n",
      " 23  Year           145460 non-null  int32         \n",
      " 24  month          145460 non-null  int32         \n",
      " 25  month_sin      145460 non-null  float64       \n",
      " 26  month_cos      145460 non-null  float64       \n",
      " 27  day            145460 non-null  int32         \n",
      " 28  day_sin        145460 non-null  float64       \n",
      " 29  day_cos        145460 non-null  float64       \n",
      "dtypes: datetime64[ns](1), float64(20), int32(9)\n",
      "memory usage: 28.3 MB\n"
     ]
    }
   ],
   "source": [
    "#Apply label encoder to each column with categorical data\n",
    "label_encoder = LabelEncoder()\n",
    "for i in object_cols:\n",
    "    data[i] = label_encoder.fit_transform(data[i])\n",
    "\n",
    "data.info()"
   ]
  },
  {
   "cell_type": "code",
   "execution_count": 26,
   "id": "57e0419419bf49e6",
   "metadata": {
    "ExecuteTime": {
     "end_time": "2024-06-27T07:25:40.587469Z",
     "start_time": "2024-06-27T07:25:40.303711Z"
    }
   },
   "outputs": [
    {
     "data": {
      "text/html": [
       "<div>\n",
       "<style scoped>\n",
       "    .dataframe tbody tr th:only-of-type {\n",
       "        vertical-align: middle;\n",
       "    }\n",
       "\n",
       "    .dataframe tbody tr th {\n",
       "        vertical-align: top;\n",
       "    }\n",
       "\n",
       "    .dataframe thead th {\n",
       "        text-align: right;\n",
       "    }\n",
       "</style>\n",
       "<table border=\"1\" class=\"dataframe\">\n",
       "  <thead>\n",
       "    <tr style=\"text-align: right;\">\n",
       "      <th></th>\n",
       "      <th>Location</th>\n",
       "      <th>MinTemp</th>\n",
       "      <th>MaxTemp</th>\n",
       "      <th>Rainfall</th>\n",
       "      <th>Evaporation</th>\n",
       "      <th>Sunshine</th>\n",
       "      <th>WindGustDir</th>\n",
       "      <th>WindGustSpeed</th>\n",
       "      <th>WindDir9am</th>\n",
       "      <th>WindDir3pm</th>\n",
       "      <th>...</th>\n",
       "      <th>Cloud9am</th>\n",
       "      <th>Cloud3pm</th>\n",
       "      <th>Temp9am</th>\n",
       "      <th>Temp3pm</th>\n",
       "      <th>RainToday</th>\n",
       "      <th>Year</th>\n",
       "      <th>month_sin</th>\n",
       "      <th>month_cos</th>\n",
       "      <th>day_sin</th>\n",
       "      <th>day_cos</th>\n",
       "    </tr>\n",
       "  </thead>\n",
       "  <tbody>\n",
       "    <tr>\n",
       "      <th>count</th>\n",
       "      <td>1.454600e+05</td>\n",
       "      <td>1.454600e+05</td>\n",
       "      <td>1.454600e+05</td>\n",
       "      <td>1.454600e+05</td>\n",
       "      <td>1.454600e+05</td>\n",
       "      <td>1.454600e+05</td>\n",
       "      <td>1.454600e+05</td>\n",
       "      <td>1.454600e+05</td>\n",
       "      <td>1.454600e+05</td>\n",
       "      <td>1.454600e+05</td>\n",
       "      <td>...</td>\n",
       "      <td>1.454600e+05</td>\n",
       "      <td>1.454600e+05</td>\n",
       "      <td>1.454600e+05</td>\n",
       "      <td>1.454600e+05</td>\n",
       "      <td>1.454600e+05</td>\n",
       "      <td>1.454600e+05</td>\n",
       "      <td>1.454600e+05</td>\n",
       "      <td>1.454600e+05</td>\n",
       "      <td>1.454600e+05</td>\n",
       "      <td>1.454600e+05</td>\n",
       "    </tr>\n",
       "    <tr>\n",
       "      <th>mean</th>\n",
       "      <td>7.815677e-18</td>\n",
       "      <td>-4.501830e-16</td>\n",
       "      <td>3.001220e-16</td>\n",
       "      <td>7.815677e-18</td>\n",
       "      <td>-3.282584e-17</td>\n",
       "      <td>-5.424080e-16</td>\n",
       "      <td>6.252542e-18</td>\n",
       "      <td>1.824961e-16</td>\n",
       "      <td>7.190423e-17</td>\n",
       "      <td>8.284618e-17</td>\n",
       "      <td>...</td>\n",
       "      <td>-1.016038e-16</td>\n",
       "      <td>7.346736e-17</td>\n",
       "      <td>7.503050e-17</td>\n",
       "      <td>-6.877796e-17</td>\n",
       "      <td>-8.988029e-18</td>\n",
       "      <td>2.080221e-14</td>\n",
       "      <td>5.861758e-19</td>\n",
       "      <td>-2.745257e-17</td>\n",
       "      <td>1.075877e-17</td>\n",
       "      <td>-1.353700e-17</td>\n",
       "    </tr>\n",
       "    <tr>\n",
       "      <th>std</th>\n",
       "      <td>1.000003e+00</td>\n",
       "      <td>1.000003e+00</td>\n",
       "      <td>1.000003e+00</td>\n",
       "      <td>1.000003e+00</td>\n",
       "      <td>1.000003e+00</td>\n",
       "      <td>1.000003e+00</td>\n",
       "      <td>1.000003e+00</td>\n",
       "      <td>1.000003e+00</td>\n",
       "      <td>1.000003e+00</td>\n",
       "      <td>1.000003e+00</td>\n",
       "      <td>...</td>\n",
       "      <td>1.000003e+00</td>\n",
       "      <td>1.000003e+00</td>\n",
       "      <td>1.000003e+00</td>\n",
       "      <td>1.000003e+00</td>\n",
       "      <td>1.000003e+00</td>\n",
       "      <td>1.000003e+00</td>\n",
       "      <td>1.000003e+00</td>\n",
       "      <td>1.000003e+00</td>\n",
       "      <td>1.000003e+00</td>\n",
       "      <td>1.000003e+00</td>\n",
       "    </tr>\n",
       "    <tr>\n",
       "      <th>min</th>\n",
       "      <td>-1.672228e+00</td>\n",
       "      <td>-3.250525e+00</td>\n",
       "      <td>-3.952405e+00</td>\n",
       "      <td>-2.750966e-01</td>\n",
       "      <td>-1.629472e+00</td>\n",
       "      <td>-2.897217e+00</td>\n",
       "      <td>-1.724209e+00</td>\n",
       "      <td>-2.588407e+00</td>\n",
       "      <td>-1.550000e+00</td>\n",
       "      <td>-1.718521e+00</td>\n",
       "      <td>...</td>\n",
       "      <td>-2.042425e+00</td>\n",
       "      <td>-2.235619e+00</td>\n",
       "      <td>-3.750358e+00</td>\n",
       "      <td>-3.951301e+00</td>\n",
       "      <td>-5.297955e-01</td>\n",
       "      <td>-2.273637e+00</td>\n",
       "      <td>-1.434333e+00</td>\n",
       "      <td>-1.388032e+00</td>\n",
       "      <td>-1.403140e+00</td>\n",
       "      <td>-1.392587e+00</td>\n",
       "    </tr>\n",
       "    <tr>\n",
       "      <th>25%</th>\n",
       "      <td>-8.991390e-01</td>\n",
       "      <td>-7.056589e-01</td>\n",
       "      <td>-7.358516e-01</td>\n",
       "      <td>-2.750966e-01</td>\n",
       "      <td>-3.711389e-01</td>\n",
       "      <td>7.618832e-02</td>\n",
       "      <td>-8.720745e-01</td>\n",
       "      <td>-6.830475e-01</td>\n",
       "      <td>-8.856691e-01</td>\n",
       "      <td>-8.370983e-01</td>\n",
       "      <td>...</td>\n",
       "      <td>-7.274900e-01</td>\n",
       "      <td>-3.369692e-01</td>\n",
       "      <td>-7.267638e-01</td>\n",
       "      <td>-7.253220e-01</td>\n",
       "      <td>-5.297955e-01</td>\n",
       "      <td>-6.973908e-01</td>\n",
       "      <td>-7.253790e-01</td>\n",
       "      <td>-1.198979e+00</td>\n",
       "      <td>-1.019170e+00</td>\n",
       "      <td>-1.055520e+00</td>\n",
       "    </tr>\n",
       "    <tr>\n",
       "      <th>50%</th>\n",
       "      <td>1.451130e-02</td>\n",
       "      <td>-3.016978e-02</td>\n",
       "      <td>-8.689797e-02</td>\n",
       "      <td>-2.750966e-01</td>\n",
       "      <td>-1.194722e-01</td>\n",
       "      <td>1.487104e-01</td>\n",
       "      <td>1.930938e-01</td>\n",
       "      <td>-7.333262e-02</td>\n",
       "      <td>1.050433e-04</td>\n",
       "      <td>4.432411e-02</td>\n",
       "      <td>...</td>\n",
       "      <td>1.491332e-01</td>\n",
       "      <td>1.376932e-01</td>\n",
       "      <td>-4.451676e-02</td>\n",
       "      <td>-8.304572e-02</td>\n",
       "      <td>-5.297955e-01</td>\n",
       "      <td>9.073221e-02</td>\n",
       "      <td>-1.642495e-02</td>\n",
       "      <td>2.308001e-02</td>\n",
       "      <td>-3.197987e-03</td>\n",
       "      <td>-4.463860e-02</td>\n",
       "    </tr>\n",
       "    <tr>\n",
       "      <th>75%</th>\n",
       "      <td>8.578808e-01</td>\n",
       "      <td>7.238646e-01</td>\n",
       "      <td>7.031326e-01</td>\n",
       "      <td>-2.035807e-01</td>\n",
       "      <td>6.361088e-03</td>\n",
       "      <td>2.574935e-01</td>\n",
       "      <td>1.045228e+00</td>\n",
       "      <td>4.601679e-01</td>\n",
       "      <td>8.858792e-01</td>\n",
       "      <td>9.257465e-01</td>\n",
       "      <td>...</td>\n",
       "      <td>5.874448e-01</td>\n",
       "      <td>6.123556e-01</td>\n",
       "      <td>6.997527e-01</td>\n",
       "      <td>6.614109e-01</td>\n",
       "      <td>-5.297955e-01</td>\n",
       "      <td>8.788552e-01</td>\n",
       "      <td>6.925291e-01</td>\n",
       "      <td>7.286359e-01</td>\n",
       "      <td>1.012774e+00</td>\n",
       "      <td>1.011221e+00</td>\n",
       "    </tr>\n",
       "    <tr>\n",
       "      <th>max</th>\n",
       "      <td>1.701250e+00</td>\n",
       "      <td>3.410112e+00</td>\n",
       "      <td>3.510563e+00</td>\n",
       "      <td>4.394557e+01</td>\n",
       "      <td>4.398511e+01</td>\n",
       "      <td>2.360634e+00</td>\n",
       "      <td>1.471296e+00</td>\n",
       "      <td>7.243246e+00</td>\n",
       "      <td>1.771653e+00</td>\n",
       "      <td>1.586813e+00</td>\n",
       "      <td>...</td>\n",
       "      <td>1.902380e+00</td>\n",
       "      <td>2.036343e+00</td>\n",
       "      <td>3.599302e+00</td>\n",
       "      <td>3.653834e+00</td>\n",
       "      <td>1.887521e+00</td>\n",
       "      <td>1.666978e+00</td>\n",
       "      <td>1.401483e+00</td>\n",
       "      <td>1.434192e+00</td>\n",
       "      <td>1.396744e+00</td>\n",
       "      <td>1.455246e+00</td>\n",
       "    </tr>\n",
       "  </tbody>\n",
       "</table>\n",
       "<p>8 rows × 26 columns</p>\n",
       "</div>"
      ],
      "text/plain": [
       "           Location       MinTemp       MaxTemp      Rainfall   Evaporation  \\\n",
       "count  1.454600e+05  1.454600e+05  1.454600e+05  1.454600e+05  1.454600e+05   \n",
       "mean   7.815677e-18 -4.501830e-16  3.001220e-16  7.815677e-18 -3.282584e-17   \n",
       "std    1.000003e+00  1.000003e+00  1.000003e+00  1.000003e+00  1.000003e+00   \n",
       "min   -1.672228e+00 -3.250525e+00 -3.952405e+00 -2.750966e-01 -1.629472e+00   \n",
       "25%   -8.991390e-01 -7.056589e-01 -7.358516e-01 -2.750966e-01 -3.711389e-01   \n",
       "50%    1.451130e-02 -3.016978e-02 -8.689797e-02 -2.750966e-01 -1.194722e-01   \n",
       "75%    8.578808e-01  7.238646e-01  7.031326e-01 -2.035807e-01  6.361088e-03   \n",
       "max    1.701250e+00  3.410112e+00  3.510563e+00  4.394557e+01  4.398511e+01   \n",
       "\n",
       "           Sunshine   WindGustDir  WindGustSpeed    WindDir9am    WindDir3pm  \\\n",
       "count  1.454600e+05  1.454600e+05   1.454600e+05  1.454600e+05  1.454600e+05   \n",
       "mean  -5.424080e-16  6.252542e-18   1.824961e-16  7.190423e-17  8.284618e-17   \n",
       "std    1.000003e+00  1.000003e+00   1.000003e+00  1.000003e+00  1.000003e+00   \n",
       "min   -2.897217e+00 -1.724209e+00  -2.588407e+00 -1.550000e+00 -1.718521e+00   \n",
       "25%    7.618832e-02 -8.720745e-01  -6.830475e-01 -8.856691e-01 -8.370983e-01   \n",
       "50%    1.487104e-01  1.930938e-01  -7.333262e-02  1.050433e-04  4.432411e-02   \n",
       "75%    2.574935e-01  1.045228e+00   4.601679e-01  8.858792e-01  9.257465e-01   \n",
       "max    2.360634e+00  1.471296e+00   7.243246e+00  1.771653e+00  1.586813e+00   \n",
       "\n",
       "       ...      Cloud9am      Cloud3pm       Temp9am       Temp3pm  \\\n",
       "count  ...  1.454600e+05  1.454600e+05  1.454600e+05  1.454600e+05   \n",
       "mean   ... -1.016038e-16  7.346736e-17  7.503050e-17 -6.877796e-17   \n",
       "std    ...  1.000003e+00  1.000003e+00  1.000003e+00  1.000003e+00   \n",
       "min    ... -2.042425e+00 -2.235619e+00 -3.750358e+00 -3.951301e+00   \n",
       "25%    ... -7.274900e-01 -3.369692e-01 -7.267638e-01 -7.253220e-01   \n",
       "50%    ...  1.491332e-01  1.376932e-01 -4.451676e-02 -8.304572e-02   \n",
       "75%    ...  5.874448e-01  6.123556e-01  6.997527e-01  6.614109e-01   \n",
       "max    ...  1.902380e+00  2.036343e+00  3.599302e+00  3.653834e+00   \n",
       "\n",
       "          RainToday          Year     month_sin     month_cos       day_sin  \\\n",
       "count  1.454600e+05  1.454600e+05  1.454600e+05  1.454600e+05  1.454600e+05   \n",
       "mean  -8.988029e-18  2.080221e-14  5.861758e-19 -2.745257e-17  1.075877e-17   \n",
       "std    1.000003e+00  1.000003e+00  1.000003e+00  1.000003e+00  1.000003e+00   \n",
       "min   -5.297955e-01 -2.273637e+00 -1.434333e+00 -1.388032e+00 -1.403140e+00   \n",
       "25%   -5.297955e-01 -6.973908e-01 -7.253790e-01 -1.198979e+00 -1.019170e+00   \n",
       "50%   -5.297955e-01  9.073221e-02 -1.642495e-02  2.308001e-02 -3.197987e-03   \n",
       "75%   -5.297955e-01  8.788552e-01  6.925291e-01  7.286359e-01  1.012774e+00   \n",
       "max    1.887521e+00  1.666978e+00  1.401483e+00  1.434192e+00  1.396744e+00   \n",
       "\n",
       "            day_cos  \n",
       "count  1.454600e+05  \n",
       "mean  -1.353700e-17  \n",
       "std    1.000003e+00  \n",
       "min   -1.392587e+00  \n",
       "25%   -1.055520e+00  \n",
       "50%   -4.463860e-02  \n",
       "75%    1.011221e+00  \n",
       "max    1.455246e+00  \n",
       "\n",
       "[8 rows x 26 columns]"
      ]
     },
     "execution_count": 26,
     "metadata": {},
     "output_type": "execute_result"
    }
   ],
   "source": [
    "#Preparing attributes of scale data\n",
    "\n",
    "features = data.drop(['RainTomorrow','Date','day','month'], axis = 1) # dropping target and extra column\n",
    "target = data[\"RainTomorrow\"]\n",
    "\n",
    "col_name = list(features.columns)\n",
    "s_scalar = preprocessing.StandardScaler()\n",
    "features = s_scalar.fit_transform(features)\n",
    "features=pd.DataFrame(features,columns=col_name)\n",
    "\n",
    "features.describe()"
   ]
  },
  {
   "cell_type": "code",
   "execution_count": 27,
   "id": "14e1cb56383c24b3",
   "metadata": {
    "ExecuteTime": {
     "end_time": "2024-06-27T07:25:43.043177Z",
     "start_time": "2024-06-27T07:25:43.023313Z"
    }
   },
   "outputs": [
    {
     "name": "stdout",
     "output_type": "stream",
     "text": [
      "<class 'pandas.core.frame.DataFrame'>\n",
      "RangeIndex: 145460 entries, 0 to 145459\n",
      "Data columns (total 26 columns):\n",
      " #   Column         Non-Null Count   Dtype  \n",
      "---  ------         --------------   -----  \n",
      " 0   Location       145460 non-null  float64\n",
      " 1   MinTemp        145460 non-null  float64\n",
      " 2   MaxTemp        145460 non-null  float64\n",
      " 3   Rainfall       145460 non-null  float64\n",
      " 4   Evaporation    145460 non-null  float64\n",
      " 5   Sunshine       145460 non-null  float64\n",
      " 6   WindGustDir    145460 non-null  float64\n",
      " 7   WindGustSpeed  145460 non-null  float64\n",
      " 8   WindDir9am     145460 non-null  float64\n",
      " 9   WindDir3pm     145460 non-null  float64\n",
      " 10  WindSpeed9am   145460 non-null  float64\n",
      " 11  WindSpeed3pm   145460 non-null  float64\n",
      " 12  Humidity9am    145460 non-null  float64\n",
      " 13  Humidity3pm    145460 non-null  float64\n",
      " 14  Pressure9am    145460 non-null  float64\n",
      " 15  Pressure3pm    145460 non-null  float64\n",
      " 16  Cloud9am       145460 non-null  float64\n",
      " 17  Cloud3pm       145460 non-null  float64\n",
      " 18  Temp9am        145460 non-null  float64\n",
      " 19  Temp3pm        145460 non-null  float64\n",
      " 20  RainToday      145460 non-null  float64\n",
      " 21  Year           145460 non-null  float64\n",
      " 22  month_sin      145460 non-null  float64\n",
      " 23  month_cos      145460 non-null  float64\n",
      " 24  day_sin        145460 non-null  float64\n",
      " 25  day_cos        145460 non-null  float64\n",
      "dtypes: float64(26)\n",
      "memory usage: 28.9 MB\n"
     ]
    }
   ],
   "source": [
    "features.info()"
   ]
  },
  {
   "cell_type": "code",
   "execution_count": 40,
   "id": "c0306f9e949563d2",
   "metadata": {
    "ExecuteTime": {
     "end_time": "2024-06-27T07:25:53.936236Z",
     "start_time": "2024-06-27T07:25:44.038350Z"
    }
   },
   "outputs": [
    {
     "data": {
      "image/png": "[encoded data removed]",
      "text/plain": [
       "<Figure size 1500x1500 with 1 Axes>"
      ]
     },
     "metadata": {},
     "output_type": "display_data"
    }
   ],
   "source": [
    "#Detecting outliers\n",
    "#Looking at the scaled features\n",
    "\n",
    "plt.figure(figsize=(15,15))\n",
    "sns.boxplot(data =features)\n",
    "plt.xticks(rotation=90)\n",
    "plt.show()"
   ]
  },
  {
   "cell_type": "code",
   "execution_count": 41,
   "id": "4a062836e6411bcb",
   "metadata": {
    "ExecuteTime": {
     "end_time": "2024-06-27T07:25:54.428427Z",
     "start_time": "2024-06-27T07:25:53.937777Z"
    }
   },
   "outputs": [
    {
     "data": {
      "text/plain": [
       "(127536, 27)"
      ]
     },
     "execution_count": 41,
     "metadata": {},
     "output_type": "execute_result"
    }
   ],
   "source": [
    "features[\"RainTomorrow\"] = target\n",
    "#Dropping of outlier\n",
    "\n",
    "features = features[(features[\"MinTemp\"]<2.3)&(features[\"MinTemp\"]>-2.3)]\n",
    "features = features[(features[\"MaxTemp\"]<2.3)&(features[\"MaxTemp\"]>-2)]\n",
    "features = features[(features[\"Rainfall\"]<4.5)]\n",
    "features = features[(features[\"Evaporation\"]<2.8)]\n",
    "features = features[(features[\"Sunshine\"]<2.1)]\n",
    "features = features[(features[\"WindGustSpeed\"]<4)&(features[\"WindGustSpeed\"]>-4)]\n",
    "features = features[(features[\"WindSpeed9am\"]<4)]\n",
    "features = features[(features[\"WindSpeed3pm\"]<2.5)]\n",
    "features = features[(features[\"Humidity9am\"]>-3)]\n",
    "features = features[(features[\"Humidity3pm\"]>-2.2)]\n",
    "features = features[(features[\"Pressure9am\"]< 2)&(features[\"Pressure9am\"]>-2.7)]\n",
    "features = features[(features[\"Pressure3pm\"]< 2)&(features[\"Pressure3pm\"]>-2.7)]\n",
    "features = features[(features[\"Cloud9am\"]<1.8)]\n",
    "features = features[(features[\"Cloud3pm\"]<2)]\n",
    "features = features[(features[\"Temp9am\"]<2.3)&(features[\"Temp9am\"]>-2)]\n",
    "features = features[(features[\"Temp3pm\"]<2.3)&(features[\"Temp3pm\"]>-2)]\n",
    "\n",
    "features.shape\n"
   ]
  },
  {
   "cell_type": "code",
   "execution_count": 42,
   "id": "64b0039c89260351",
   "metadata": {
    "ExecuteTime": {
     "end_time": "2024-06-27T07:26:04.346275Z",
     "start_time": "2024-06-27T07:25:54.429570Z"
    }
   },
   "outputs": [
    {
     "data": {
      "image/png": "[encoded data removed]",
      "text/plain": [
       "<Figure size 1000x1000 with 1 Axes>"
      ]
     },
     "metadata": {},
     "output_type": "display_data"
    }
   ],
   "source": [
    "#looking at the scaled features without outliers\n",
    "\n",
    "plt.figure(figsize=(10,10))\n",
    "sns.boxplot(data = features)\n",
    "plt.xticks(rotation= 90)\n",
    "plt.show()"
   ]
  },
  {
   "cell_type": "markdown",
   "id": "98d92d439cea7ce6",
   "metadata": {},
   "source": [
    "MODEL BUILDING\n"
   ]
  },
  {
   "cell_type": "markdown",
   "id": "36c5a8d4212f2332",
   "metadata": {},
   "source": [
    "In this project, I build an artificial neural network\n",
    "Following steps are involved in the model building\n",
    "* Assigning X and y as features and target\n",
    "* Splitting test and training sets\n",
    "* Initialising neural network\n",
    "* Compiling the neural network\n",
    "* Training the neural network "
   ]
  },
  {
   "cell_type": "code",
   "execution_count": 43,
   "id": "95d9580859d36828",
   "metadata": {
    "jupyter": {
     "is_executing": true
    }
   },
   "outputs": [
    {
     "data": {
      "text/plain": [
       "(127536, 26)"
      ]
     },
     "execution_count": 43,
     "metadata": {},
     "output_type": "execute_result"
    }
   ],
   "source": [
    "X = features.drop([\"RainTomorrow\"], axis=1)\n",
    "y = features[\"RainTomorrow\"]\n",
    "\n",
    "# Splitting test and training sets\n",
    "X_train, X_test, y_train, y_test = train_test_split(X, y, test_size = 0.2, random_state = 42)\n",
    "              \n",
    "X.shape                                      "
   ]
  },
  {
   "cell_type": "code",
   "execution_count": 44,
   "id": "2039b156b94f0f60",
   "metadata": {
    "jupyter": {
     "is_executing": true
    }
   },
   "outputs": [
    {
     "name": "stderr",
     "output_type": "stream",
     "text": [
      "C:\\Users\\saisa\\PycharmProjects\\pythonProject3\\.venv\\Lib\\site-packages\\keras\\src\\layers\\core\\dense.py:87: UserWarning: Do not pass an `input_shape`/`input_dim` argument to a layer. When using Sequential models, prefer using an `Input(shape)` object as the first layer in the model instead.\n",
      "  super().__init__(activity_regularizer=activity_regularizer, **kwargs)\n"
     ]
    },
    {
     "name": "stdout",
     "output_type": "stream",
     "text": [
      "Epoch 1/150\n",
      "\u001b[1m2551/2551\u001b[0m \u001b[32m━━━━━━━━━━━━━━━━━━━━\u001b[0m\u001b[37m\u001b[0m \u001b[1m21s\u001b[0m 6ms/step - accuracy: 0.7825 - loss: 0.5498 - val_accuracy: 0.7860 - val_loss: 0.3892\n",
      "Epoch 2/150\n",
      "\u001b[1m2551/2551\u001b[0m \u001b[32m━━━━━━━━━━━━━━━━━━━━\u001b[0m\u001b[37m\u001b[0m \u001b[1m11s\u001b[0m 4ms/step - accuracy: 0.8124 - loss: 0.4134 - val_accuracy: 0.8394 - val_loss: 0.3788\n",
      "Epoch 3/150\n",
      "\u001b[1m2551/2551\u001b[0m \u001b[32m━━━━━━━━━━━━━━━━━━━━\u001b[0m\u001b[37m\u001b[0m \u001b[1m10s\u001b[0m 4ms/step - accuracy: 0.8265 - loss: 0.4040 - val_accuracy: 0.8403 - val_loss: 0.3715\n",
      "Epoch 4/150\n",
      "\u001b[1m2551/2551\u001b[0m \u001b[32m━━━━━━━━━━━━━━━━━━━━\u001b[0m\u001b[37m\u001b[0m \u001b[1m10s\u001b[0m 4ms/step - accuracy: 0.8275 - loss: 0.4033 - val_accuracy: 0.8412 - val_loss: 0.3681\n",
      "Epoch 5/150\n",
      "\u001b[1m2551/2551\u001b[0m \u001b[32m━━━━━━━━━━━━━━━━━━━━\u001b[0m\u001b[37m\u001b[0m \u001b[1m9s\u001b[0m 4ms/step - accuracy: 0.8258 - loss: 0.4020 - val_accuracy: 0.8427 - val_loss: 0.3662\n",
      "Epoch 6/150\n",
      "\u001b[1m2551/2551\u001b[0m \u001b[32m━━━━━━━━━━━━━━━━━━━━\u001b[0m\u001b[37m\u001b[0m \u001b[1m10s\u001b[0m 4ms/step - accuracy: 0.8306 - loss: 0.3895 - val_accuracy: 0.8429 - val_loss: 0.3653\n",
      "Epoch 7/150\n",
      "\u001b[1m2551/2551\u001b[0m \u001b[32m━━━━━━━━━━━━━━━━━━━━\u001b[0m\u001b[37m\u001b[0m \u001b[1m10s\u001b[0m 4ms/step - accuracy: 0.8297 - loss: 0.3950 - val_accuracy: 0.8434 - val_loss: 0.3636\n",
      "Epoch 8/150\n",
      "\u001b[1m2551/2551\u001b[0m \u001b[32m━━━━━━━━━━━━━━━━━━━━\u001b[0m\u001b[37m\u001b[0m \u001b[1m10s\u001b[0m 4ms/step - accuracy: 0.8324 - loss: 0.3870 - val_accuracy: 0.8436 - val_loss: 0.3627\n",
      "Epoch 9/150\n",
      "\u001b[1m2551/2551\u001b[0m \u001b[32m━━━━━━━━━━━━━━━━━━━━\u001b[0m\u001b[37m\u001b[0m \u001b[1m10s\u001b[0m 4ms/step - accuracy: 0.8306 - loss: 0.3891 - val_accuracy: 0.8434 - val_loss: 0.3621\n",
      "Epoch 10/150\n",
      "\u001b[1m2551/2551\u001b[0m \u001b[32m━━━━━━━━━━━━━━━━━━━━\u001b[0m\u001b[37m\u001b[0m \u001b[1m10s\u001b[0m 4ms/step - accuracy: 0.8299 - loss: 0.3879 - val_accuracy: 0.8437 - val_loss: 0.3612\n",
      "Epoch 11/150\n",
      "\u001b[1m2551/2551\u001b[0m \u001b[32m━━━━━━━━━━━━━━━━━━━━\u001b[0m\u001b[37m\u001b[0m \u001b[1m10s\u001b[0m 4ms/step - accuracy: 0.8307 - loss: 0.3877 - val_accuracy: 0.8441 - val_loss: 0.3596\n",
      "Epoch 12/150\n",
      "\u001b[1m2551/2551\u001b[0m \u001b[32m━━━━━━━━━━━━━━━━━━━━\u001b[0m\u001b[37m\u001b[0m \u001b[1m10s\u001b[0m 4ms/step - accuracy: 0.8348 - loss: 0.3817 - val_accuracy: 0.8444 - val_loss: 0.3587\n",
      "Epoch 13/150\n",
      "\u001b[1m2551/2551\u001b[0m \u001b[32m━━━━━━━━━━━━━━━━━━━━\u001b[0m\u001b[37m\u001b[0m \u001b[1m9s\u001b[0m 4ms/step - accuracy: 0.8308 - loss: 0.3844 - val_accuracy: 0.8444 - val_loss: 0.3586\n",
      "Epoch 14/150\n",
      "\u001b[1m2551/2551\u001b[0m \u001b[32m━━━━━━━━━━━━━━━━━━━━\u001b[0m\u001b[37m\u001b[0m \u001b[1m8s\u001b[0m 3ms/step - accuracy: 0.8337 - loss: 0.3832 - val_accuracy: 0.8436 - val_loss: 0.3581\n",
      "Epoch 15/150\n",
      "\u001b[1m2551/2551\u001b[0m \u001b[32m━━━━━━━━━━━━━━━━━━━━\u001b[0m\u001b[37m\u001b[0m \u001b[1m5s\u001b[0m 2ms/step - accuracy: 0.8341 - loss: 0.3798 - val_accuracy: 0.8441 - val_loss: 0.3572\n",
      "Epoch 16/150\n",
      "\u001b[1m2551/2551\u001b[0m \u001b[32m━━━━━━━━━━━━━━━━━━━━\u001b[0m\u001b[37m\u001b[0m \u001b[1m6s\u001b[0m 2ms/step - accuracy: 0.8332 - loss: 0.3804 - val_accuracy: 0.8434 - val_loss: 0.3568\n",
      "Epoch 17/150\n",
      "\u001b[1m2551/2551\u001b[0m \u001b[32m━━━━━━━━━━━━━━━━━━━━\u001b[0m\u001b[37m\u001b[0m \u001b[1m5s\u001b[0m 2ms/step - accuracy: 0.8322 - loss: 0.3797 - val_accuracy: 0.8439 - val_loss: 0.3564\n",
      "Epoch 18/150\n",
      "\u001b[1m2551/2551\u001b[0m \u001b[32m━━━━━━━━━━━━━━━━━━━━\u001b[0m\u001b[37m\u001b[0m \u001b[1m5s\u001b[0m 2ms/step - accuracy: 0.8318 - loss: 0.3841 - val_accuracy: 0.8438 - val_loss: 0.3564\n",
      "Epoch 19/150\n",
      "\u001b[1m2551/2551\u001b[0m \u001b[32m━━━━━━━━━━━━━━━━━━━━\u001b[0m\u001b[37m\u001b[0m \u001b[1m5s\u001b[0m 2ms/step - accuracy: 0.8319 - loss: 0.3811 - val_accuracy: 0.8441 - val_loss: 0.3558\n",
      "Epoch 20/150\n",
      "\u001b[1m2551/2551\u001b[0m \u001b[32m━━━━━━━━━━━━━━━━━━━━\u001b[0m\u001b[37m\u001b[0m \u001b[1m6s\u001b[0m 2ms/step - accuracy: 0.8328 - loss: 0.3793 - val_accuracy: 0.8446 - val_loss: 0.3552\n",
      "Epoch 21/150\n",
      "\u001b[1m2551/2551\u001b[0m \u001b[32m━━━━━━━━━━━━━━━━━━━━\u001b[0m\u001b[37m\u001b[0m \u001b[1m5s\u001b[0m 2ms/step - accuracy: 0.8297 - loss: 0.3841 - val_accuracy: 0.8451 - val_loss: 0.3550\n",
      "Epoch 22/150\n",
      "\u001b[1m2551/2551\u001b[0m \u001b[32m━━━━━━━━━━━━━━━━━━━━\u001b[0m\u001b[37m\u001b[0m \u001b[1m6s\u001b[0m 2ms/step - accuracy: 0.8287 - loss: 0.3821 - val_accuracy: 0.8453 - val_loss: 0.3547\n",
      "Epoch 23/150\n",
      "\u001b[1m2551/2551\u001b[0m \u001b[32m━━━━━━━━━━━━━━━━━━━━\u001b[0m\u001b[37m\u001b[0m \u001b[1m5s\u001b[0m 2ms/step - accuracy: 0.8317 - loss: 0.3808 - val_accuracy: 0.8454 - val_loss: 0.3548\n",
      "Epoch 24/150\n",
      "\u001b[1m2551/2551\u001b[0m \u001b[32m━━━━━━━━━━━━━━━━━━━━\u001b[0m\u001b[37m\u001b[0m \u001b[1m5s\u001b[0m 2ms/step - accuracy: 0.8325 - loss: 0.3762 - val_accuracy: 0.8447 - val_loss: 0.3560\n",
      "Epoch 25/150\n",
      "\u001b[1m2551/2551\u001b[0m \u001b[32m━━━━━━━━━━━━━━━━━━━━\u001b[0m\u001b[37m\u001b[0m \u001b[1m8s\u001b[0m 3ms/step - accuracy: 0.8321 - loss: 0.3763 - val_accuracy: 0.8454 - val_loss: 0.3542\n",
      "Epoch 26/150\n",
      "\u001b[1m2551/2551\u001b[0m \u001b[32m━━━━━━━━━━━━━━━━━━━━\u001b[0m\u001b[37m\u001b[0m \u001b[1m7s\u001b[0m 3ms/step - accuracy: 0.8317 - loss: 0.3817 - val_accuracy: 0.8441 - val_loss: 0.3551\n",
      "Epoch 27/150\n",
      "\u001b[1m2551/2551\u001b[0m \u001b[32m━━━━━━━━━━━━━━━━━━━━\u001b[0m\u001b[37m\u001b[0m \u001b[1m7s\u001b[0m 3ms/step - accuracy: 0.8331 - loss: 0.3765 - val_accuracy: 0.8454 - val_loss: 0.3544\n",
      "Epoch 28/150\n",
      "\u001b[1m2551/2551\u001b[0m \u001b[32m━━━━━━━━━━━━━━━━━━━━\u001b[0m\u001b[37m\u001b[0m \u001b[1m6s\u001b[0m 2ms/step - accuracy: 0.8315 - loss: 0.3787 - val_accuracy: 0.8448 - val_loss: 0.3539\n",
      "Epoch 29/150\n",
      "\u001b[1m2551/2551\u001b[0m \u001b[32m━━━━━━━━━━━━━━━━━━━━\u001b[0m\u001b[37m\u001b[0m \u001b[1m7s\u001b[0m 3ms/step - accuracy: 0.8297 - loss: 0.3814 - val_accuracy: 0.8445 - val_loss: 0.3541\n",
      "Epoch 30/150\n",
      "\u001b[1m2551/2551\u001b[0m \u001b[32m━━━━━━━━━━━━━━━━━━━━\u001b[0m\u001b[37m\u001b[0m \u001b[1m8s\u001b[0m 3ms/step - accuracy: 0.8347 - loss: 0.3759 - val_accuracy: 0.8464 - val_loss: 0.3532\n",
      "Epoch 31/150\n",
      "\u001b[1m2551/2551\u001b[0m \u001b[32m━━━━━━━━━━━━━━━━━━━━\u001b[0m\u001b[37m\u001b[0m \u001b[1m7s\u001b[0m 3ms/step - accuracy: 0.8301 - loss: 0.3800 - val_accuracy: 0.8444 - val_loss: 0.3537\n",
      "Epoch 32/150\n",
      "\u001b[1m2551/2551\u001b[0m \u001b[32m━━━━━━━━━━━━━━━━━━━━\u001b[0m\u001b[37m\u001b[0m \u001b[1m7s\u001b[0m 3ms/step - accuracy: 0.8333 - loss: 0.3744 - val_accuracy: 0.8442 - val_loss: 0.3536\n",
      "Epoch 33/150\n",
      "\u001b[1m2551/2551\u001b[0m \u001b[32m━━━━━━━━━━━━━━━━━━━━\u001b[0m\u001b[37m\u001b[0m \u001b[1m6s\u001b[0m 2ms/step - accuracy: 0.8297 - loss: 0.3795 - val_accuracy: 0.8444 - val_loss: 0.3539\n",
      "Epoch 34/150\n",
      "\u001b[1m2551/2551\u001b[0m \u001b[32m━━━━━━━━━━━━━━━━━━━━\u001b[0m\u001b[37m\u001b[0m \u001b[1m6s\u001b[0m 2ms/step - accuracy: 0.8301 - loss: 0.3823 - val_accuracy: 0.8429 - val_loss: 0.3540\n",
      "Epoch 35/150\n",
      "\u001b[1m2551/2551\u001b[0m \u001b[32m━━━━━━━━━━━━━━━━━━━━\u001b[0m\u001b[37m\u001b[0m \u001b[1m6s\u001b[0m 2ms/step - accuracy: 0.8348 - loss: 0.3715 - val_accuracy: 0.8432 - val_loss: 0.3535\n",
      "Epoch 36/150\n",
      "\u001b[1m2551/2551\u001b[0m \u001b[32m━━━━━━━━━━━━━━━━━━━━\u001b[0m\u001b[37m\u001b[0m \u001b[1m6s\u001b[0m 2ms/step - accuracy: 0.8303 - loss: 0.3775 - val_accuracy: 0.8443 - val_loss: 0.3533\n",
      "Epoch 37/150\n",
      "\u001b[1m2551/2551\u001b[0m \u001b[32m━━━━━━━━━━━━━━━━━━━━\u001b[0m\u001b[37m\u001b[0m \u001b[1m6s\u001b[0m 2ms/step - accuracy: 0.8296 - loss: 0.3767 - val_accuracy: 0.8429 - val_loss: 0.3543\n",
      "Epoch 38/150\n",
      "\u001b[1m2551/2551\u001b[0m \u001b[32m━━━━━━━━━━━━━━━━━━━━\u001b[0m\u001b[37m\u001b[0m \u001b[1m7s\u001b[0m 3ms/step - accuracy: 0.8335 - loss: 0.3735 - val_accuracy: 0.8437 - val_loss: 0.3531\n",
      "Epoch 39/150\n",
      "\u001b[1m2551/2551\u001b[0m \u001b[32m━━━━━━━━━━━━━━━━━━━━\u001b[0m\u001b[37m\u001b[0m \u001b[1m6s\u001b[0m 2ms/step - accuracy: 0.8305 - loss: 0.3767 - val_accuracy: 0.8432 - val_loss: 0.3539\n",
      "Epoch 40/150\n",
      "\u001b[1m2551/2551\u001b[0m \u001b[32m━━━━━━━━━━━━━━━━━━━━\u001b[0m\u001b[37m\u001b[0m \u001b[1m7s\u001b[0m 3ms/step - accuracy: 0.8336 - loss: 0.3747 - val_accuracy: 0.8430 - val_loss: 0.3536\n",
      "Epoch 41/150\n",
      "\u001b[1m2551/2551\u001b[0m \u001b[32m━━━━━━━━━━━━━━━━━━━━\u001b[0m\u001b[37m\u001b[0m \u001b[1m4s\u001b[0m 2ms/step - accuracy: 0.8323 - loss: 0.3761 - val_accuracy: 0.8433 - val_loss: 0.3535\n",
      "Epoch 42/150\n",
      "\u001b[1m2551/2551\u001b[0m \u001b[32m━━━━━━━━━━━━━━━━━━━━\u001b[0m\u001b[37m\u001b[0m \u001b[1m6s\u001b[0m 2ms/step - accuracy: 0.8306 - loss: 0.3767 - val_accuracy: 0.8434 - val_loss: 0.3531\n",
      "Epoch 43/150\n",
      "\u001b[1m2551/2551\u001b[0m \u001b[32m━━━━━━━━━━━━━━━━━━━━\u001b[0m\u001b[37m\u001b[0m \u001b[1m5s\u001b[0m 2ms/step - accuracy: 0.8330 - loss: 0.3722 - val_accuracy: 0.8435 - val_loss: 0.3528\n",
      "Epoch 44/150\n",
      "\u001b[1m2551/2551\u001b[0m \u001b[32m━━━━━━━━━━━━━━━━━━━━\u001b[0m\u001b[37m\u001b[0m \u001b[1m6s\u001b[0m 2ms/step - accuracy: 0.8299 - loss: 0.3791 - val_accuracy: 0.8437 - val_loss: 0.3525\n",
      "Epoch 45/150\n",
      "\u001b[1m2551/2551\u001b[0m \u001b[32m━━━━━━━━━━━━━━━━━━━━\u001b[0m\u001b[37m\u001b[0m \u001b[1m6s\u001b[0m 2ms/step - accuracy: 0.8312 - loss: 0.3778 - val_accuracy: 0.8435 - val_loss: 0.3529\n",
      "Epoch 46/150\n",
      "\u001b[1m2551/2551\u001b[0m \u001b[32m━━━━━━━━━━━━━━━━━━━━\u001b[0m\u001b[37m\u001b[0m \u001b[1m5s\u001b[0m 2ms/step - accuracy: 0.8319 - loss: 0.3754 - val_accuracy: 0.8430 - val_loss: 0.3529\n",
      "Epoch 47/150\n",
      "\u001b[1m2551/2551\u001b[0m \u001b[32m━━━━━━━━━━━━━━━━━━━━\u001b[0m\u001b[37m\u001b[0m \u001b[1m6s\u001b[0m 2ms/step - accuracy: 0.8334 - loss: 0.3750 - val_accuracy: 0.8423 - val_loss: 0.3535\n",
      "Epoch 48/150\n",
      "\u001b[1m2551/2551\u001b[0m \u001b[32m━━━━━━━━━━━━━━━━━━━━\u001b[0m\u001b[37m\u001b[0m \u001b[1m6s\u001b[0m 2ms/step - accuracy: 0.8348 - loss: 0.3690 - val_accuracy: 0.8420 - val_loss: 0.3536\n",
      "Epoch 49/150\n",
      "\u001b[1m2551/2551\u001b[0m \u001b[32m━━━━━━━━━━━━━━━━━━━━\u001b[0m\u001b[37m\u001b[0m \u001b[1m6s\u001b[0m 2ms/step - accuracy: 0.8350 - loss: 0.3680 - val_accuracy: 0.8417 - val_loss: 0.3533\n",
      "Epoch 50/150\n",
      "\u001b[1m2551/2551\u001b[0m \u001b[32m━━━━━━━━━━━━━━━━━━━━\u001b[0m\u001b[37m\u001b[0m \u001b[1m6s\u001b[0m 2ms/step - accuracy: 0.8341 - loss: 0.3727 - val_accuracy: 0.8437 - val_loss: 0.3524\n"
     ]
    }
   ],
   "source": [
    "#Early_stopping\n",
    "early_stopping = callbacks.EarlyStopping(\n",
    "    min_delta=0.001, # minimium amount of change to count as an improvement\n",
    "    patience=20, # how many epochs to wait before stopping\n",
    "    restore_best_weights=True,\n",
    ")\n",
    "\n",
    "model = Sequential()\n",
    "\n",
    "#Layers\n",
    "model.add(Dense(units = 32, kernel_initializer = 'uniform', activation = 'relu', input_dim = 26))\n",
    "model.add(Dense(units = 32, kernel_initializer = 'uniform', activation = 'relu'))\n",
    "model.add(Dense(units = 16, kernel_initializer = 'uniform', activation = 'relu'))\n",
    "model.add(Dropout(0.25))\n",
    "model.add(Dense(units = 8, kernel_initializer = 'uniform', activation = 'relu'))\n",
    "model.add(Dropout(0.5))\n",
    "model.add(Dense(units = 1, kernel_initializer = 'uniform', activation = 'sigmoid'))\n",
    "\n",
    "\n",
    "# Compiling the ANN\n",
    "opt = Adam(learning_rate=0.00009)\n",
    "model.compile(optimizer = opt, loss = 'binary_crossentropy', metrics = ['accuracy'])\n",
    "\n",
    "# Train the ANN\n",
    "history = model.fit(X_train, y_train, batch_size = 32, epochs = 150, callbacks=[early_stopping], validation_split=0.2)\n",
    "\n",
    "          "
   ]
  },
  {
   "cell_type": "code",
   "execution_count": 45,
   "id": "3d5e4d2d11e90f23",
   "metadata": {
    "jupyter": {
     "is_executing": true
    }
   },
   "outputs": [
    {
     "data": {
      "image/png": "[encoded data removed]",
      "text/plain": [
       "<Figure size 640x480 with 1 Axes>"
      ]
     },
     "metadata": {},
     "output_type": "display_data"
    }
   ],
   "source": [
    "history_df = pd.DataFrame(history.history)\n",
    "\n",
    "plt.plot(history_df.loc[:, ['loss']], \"#BDE2E2\", label='Training loss')\n",
    "plt.plot(history_df.loc[:, ['val_loss']],\"#C2C4E2\", label='Validation loss')\n",
    "plt.title('Training and Validation loss')\n",
    "plt.xlabel('Epochs')\n",
    "plt.ylabel('Loss')\n",
    "plt.legend(loc=\"best\")\n",
    "\n",
    "plt.show()"
   ]
  },
  {
   "cell_type": "code",
   "execution_count": 59,
   "id": "f376efb657bf627d",
   "metadata": {
    "ExecuteTime": {
     "end_time": "2024-06-27T09:30:01.283514Z",
     "start_time": "2024-06-27T09:30:01.080695Z"
    }
   },
   "outputs": [
    {
     "data": {
      "image/png": "[encoded data removed]",
      "text/plain": [
       "<Figure size 640x480 with 1 Axes>"
      ]
     },
     "metadata": {},
     "output_type": "display_data"
    }
   ],
   "source": [
    "history_df = pd.DataFrame(history.history)\n",
    "\n",
    "plt.plot(history_df.loc[:, ['accuracy']], \"#BDE2E2\", label='Training accuracy')\n",
    "plt.plot(history_df.loc[:, ['val_accuracy']], \"#C2C4E2\", label='Validation accuracy')\n",
    "\n",
    "plt.title('Training and Validation accuracy')\n",
    "plt.xlabel('Epochs')\n",
    "plt.ylabel('Accuracy')\n",
    "plt.legend()\n",
    "plt.show()"
   ]
  },
  {
   "cell_type": "code",
   "execution_count": 60,
   "id": "9481beb12e05aa76",
   "metadata": {
    "ExecuteTime": {
     "end_time": "2024-06-27T09:30:19.777413Z",
     "start_time": "2024-06-27T09:30:17.777425Z"
    }
   },
   "outputs": [
    {
     "name": "stdout",
     "output_type": "stream",
     "text": [
      "\u001b[1m798/798\u001b[0m \u001b[32m━━━━━━━━━━━━━━━━━━━━\u001b[0m\u001b[37m\u001b[0m \u001b[1m1s\u001b[0m 1ms/step\n"
     ]
    }
   ],
   "source": [
    "# Predicting the test set results\n",
    "y_pred = model.predict(X_test)\n",
    "y_pred = (y_pred > 0.5)"
   ]
  },
  {
   "cell_type": "code",
   "execution_count": 61,
   "id": "e58c3bee2624f4be",
   "metadata": {
    "ExecuteTime": {
     "end_time": "2024-06-27T09:30:47.555169Z",
     "start_time": "2024-06-27T09:30:47.500337Z"
    }
   },
   "outputs": [
    {
     "name": "stdout",
     "output_type": "stream",
     "text": [
      "              precision    recall  f1-score   support\n",
      "\n",
      "           0       0.86      0.96      0.91     20110\n",
      "           1       0.75      0.43      0.55      5398\n",
      "\n",
      "    accuracy                           0.85     25508\n",
      "   macro avg       0.81      0.70      0.73     25508\n",
      "weighted avg       0.84      0.85      0.83     25508\n",
      "\n"
     ]
    }
   ],
   "source": [
    "print(classification_report(y_test, y_pred))"
   ]
  },
  {
   "cell_type": "code",
   "execution_count": null,
   "id": "16df1c70",
   "metadata": {},
   "outputs": [],
   "source": []
  }
 ],
 "metadata": {
  "kernelspec": {
   "display_name": "Python 3 (ipykernel)",
   "language": "python",
   "name": "python3"
  },
  "language_info": {
   "codemirror_mode": {
    "name": "ipython",
    "version": 3
   },
   "file_extension": ".py",
   "mimetype": "text/x-python",
   "name": "python",
   "nbconvert_exporter": "python",
   "pygments_lexer": "ipython3",
   "version": "3.12.4"
  }
 },
 "nbformat": 4,
 "nbformat_minor": 5
}
